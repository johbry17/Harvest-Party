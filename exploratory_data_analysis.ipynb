{
 "cells": [
  {
   "cell_type": "code",
   "execution_count": 1,
   "metadata": {},
   "outputs": [],
   "source": [
    "# import dependencies\n",
    "import pandas as pd\n",
    "import matplotlib.pyplot as plt\n",
    "import seaborn as sns\n",
    "import plotly.express as px\n",
    "import numpy as np\n",
    "\n",
    "# import squarify"
   ]
  },
  {
   "cell_type": "markdown",
   "metadata": {},
   "source": [
    "A note to the layman / general public / hoi poloi / plebian scum:\n",
    "\n",
    "30-40% of plots display extra data when you hover on or click them. Interactivity for the win!\n",
    "\n",
    "This is an exploratory data analysis (EDA). I'm just poking it to see what's going on. The plots are not meant to be pretty (the pretty ones tend to have hover data). It views better on a computer instead of mobile. Ignore the random blocks of commented out code.\n",
    "\n",
    "Expense, donation, and reimbursement data only exist for six years (2017 to 2023, minus 2020). Attendees data exists for 2014-2023.\n",
    "\n",
    "2021 is an outlier (first year post-covid). 2017 is also an outlier, (no charge for music). We really only have four years of reliable data, a ridiculously small sample size, hampering the ability to do rigorous analysis.\n",
    "\n",
    "Costco payments skew the data. I arbitrarily assigned 2/3rds to the Bar category and 1/3rd to Food, hoping it would be a rough estimate. Not sure it succeeds.\n",
    "\n",
    "Feedback is appreciated, and may lead to me plotting new charts."
   ]
  },
  {
   "cell_type": "markdown",
   "metadata": {},
   "source": [
    "## Table of Contents\n",
    "\n",
    "- [Data Wrangling](#data-wrangling)\n",
    "- [Describe the df's](#describe-the-dfs)\n",
    "- [Plots!](#plots!)\n",
    "- [Total Expenses and Donations](#total-expenses-and-donations)\n",
    "- [Categories](#categories)\n",
    "- [Reimbursements](#reimbursements)\n",
    "- [Attendees](#attendees)\n",
    "- [Sub-categories](#sub-categories)\n",
    "- [Broing Stats](#boring-stats)"
   ]
  },
  {
   "cell_type": "markdown",
   "metadata": {},
   "source": [
    "## Data Wrangling\n",
    "\n",
    "#### Load Data Frames\n",
    "\n",
    "#### Most data wrangling already happened, during extraction from Google Sheets, with names changed in a git ignored piece of code"
   ]
  },
  {
   "cell_type": "markdown",
   "metadata": {},
   "source": [
    "## <center>df = `harvest_party_expenses.csv`</center>"
   ]
  },
  {
   "cell_type": "code",
   "execution_count": 2,
   "metadata": {},
   "outputs": [
    {
     "data": {
      "text/html": [
       "<div>\n",
       "<style scoped>\n",
       "    .dataframe tbody tr th:only-of-type {\n",
       "        vertical-align: middle;\n",
       "    }\n",
       "\n",
       "    .dataframe tbody tr th {\n",
       "        vertical-align: top;\n",
       "    }\n",
       "\n",
       "    .dataframe thead th {\n",
       "        text-align: right;\n",
       "    }\n",
       "</style>\n",
       "<table border=\"1\" class=\"dataframe\">\n",
       "  <thead>\n",
       "    <tr style=\"text-align: right;\">\n",
       "      <th></th>\n",
       "      <th>Name</th>\n",
       "      <th>Expense</th>\n",
       "      <th>Expense Amt</th>\n",
       "      <th>Date bought</th>\n",
       "      <th>Category</th>\n",
       "    </tr>\n",
       "  </thead>\n",
       "  <tbody>\n",
       "    <tr>\n",
       "      <th>0</th>\n",
       "      <td>Randy Detman</td>\n",
       "      <td>Key chains</td>\n",
       "      <td>150</td>\n",
       "      <td>2017</td>\n",
       "      <td>Merch</td>\n",
       "    </tr>\n",
       "    <tr>\n",
       "      <th>1</th>\n",
       "      <td>Morning Glory</td>\n",
       "      <td>Liquor / Food / Costco</td>\n",
       "      <td>50</td>\n",
       "      <td>2017</td>\n",
       "      <td>Costco</td>\n",
       "    </tr>\n",
       "    <tr>\n",
       "      <th>2</th>\n",
       "      <td>Randy Detman</td>\n",
       "      <td>Cleaning service</td>\n",
       "      <td>60</td>\n",
       "      <td>2017</td>\n",
       "      <td>Cleaning</td>\n",
       "    </tr>\n",
       "    <tr>\n",
       "      <th>3</th>\n",
       "      <td>Randy Detman</td>\n",
       "      <td>Carpet cleaner</td>\n",
       "      <td>50</td>\n",
       "      <td>2017</td>\n",
       "      <td>Cleaning</td>\n",
       "    </tr>\n",
       "    <tr>\n",
       "      <th>4</th>\n",
       "      <td>Morning Glory</td>\n",
       "      <td>Brau kegs</td>\n",
       "      <td>140</td>\n",
       "      <td>2017</td>\n",
       "      <td>Bar</td>\n",
       "    </tr>\n",
       "  </tbody>\n",
       "</table>\n",
       "</div>"
      ],
      "text/plain": [
       "            Name                 Expense Expense Amt  Date bought  Category\n",
       "0   Randy Detman              Key chains         150         2017     Merch\n",
       "1  Morning Glory  Liquor / Food / Costco          50         2017    Costco\n",
       "2   Randy Detman        Cleaning service          60         2017  Cleaning\n",
       "3   Randy Detman          Carpet cleaner          50         2017  Cleaning\n",
       "4  Morning Glory               Brau kegs         140         2017       Bar"
      ]
     },
     "execution_count": 2,
     "metadata": {},
     "output_type": "execute_result"
    }
   ],
   "source": [
    "# read in main expenses csv as a df\n",
    "df = pd.read_csv(\"./resources/harvest_party_expenses.csv\")\n",
    "df.head()"
   ]
  },
  {
   "cell_type": "code",
   "execution_count": 3,
   "metadata": {},
   "outputs": [
    {
     "data": {
      "text/plain": [
       "Name            object\n",
       "Expense         object\n",
       "Expense Amt    float64\n",
       "Date bought      int64\n",
       "Category        object\n",
       "dtype: object"
      ]
     },
     "execution_count": 3,
     "metadata": {},
     "output_type": "execute_result"
    }
   ],
   "source": [
    "# convert all 'Expense Amt' to float with regex (remove $ and ,)\n",
    "df[\"Expense Amt\"] = df[\"Expense Amt\"].replace(\"[\\$,]\", \"\", regex=True).astype(float)\n",
    "\n",
    "# confirm all of 'Expense Amt' are floats\n",
    "df.dtypes"
   ]
  },
  {
   "cell_type": "code",
   "execution_count": 4,
   "metadata": {},
   "outputs": [
    {
     "data": {
      "text/html": [
       "<div>\n",
       "<style scoped>\n",
       "    .dataframe tbody tr th:only-of-type {\n",
       "        vertical-align: middle;\n",
       "    }\n",
       "\n",
       "    .dataframe tbody tr th {\n",
       "        vertical-align: top;\n",
       "    }\n",
       "\n",
       "    .dataframe thead th {\n",
       "        text-align: right;\n",
       "    }\n",
       "</style>\n",
       "<table border=\"1\" class=\"dataframe\">\n",
       "  <thead>\n",
       "    <tr style=\"text-align: right;\">\n",
       "      <th></th>\n",
       "      <th>Name</th>\n",
       "      <th>Expense</th>\n",
       "      <th>Amount</th>\n",
       "      <th>Year</th>\n",
       "      <th>Category</th>\n",
       "    </tr>\n",
       "  </thead>\n",
       "  <tbody>\n",
       "    <tr>\n",
       "      <th>0</th>\n",
       "      <td>Randy Detman</td>\n",
       "      <td>Key chains</td>\n",
       "      <td>150.0</td>\n",
       "      <td>2017</td>\n",
       "      <td>Merch</td>\n",
       "    </tr>\n",
       "    <tr>\n",
       "      <th>1</th>\n",
       "      <td>Morning Glory</td>\n",
       "      <td>Liquor / Food / Costco</td>\n",
       "      <td>50.0</td>\n",
       "      <td>2017</td>\n",
       "      <td>Costco</td>\n",
       "    </tr>\n",
       "    <tr>\n",
       "      <th>2</th>\n",
       "      <td>Randy Detman</td>\n",
       "      <td>Cleaning service</td>\n",
       "      <td>60.0</td>\n",
       "      <td>2017</td>\n",
       "      <td>Cleaning</td>\n",
       "    </tr>\n",
       "    <tr>\n",
       "      <th>3</th>\n",
       "      <td>Randy Detman</td>\n",
       "      <td>Carpet cleaner</td>\n",
       "      <td>50.0</td>\n",
       "      <td>2017</td>\n",
       "      <td>Cleaning</td>\n",
       "    </tr>\n",
       "    <tr>\n",
       "      <th>4</th>\n",
       "      <td>Morning Glory</td>\n",
       "      <td>Brau kegs</td>\n",
       "      <td>140.0</td>\n",
       "      <td>2017</td>\n",
       "      <td>Bar</td>\n",
       "    </tr>\n",
       "    <tr>\n",
       "      <th>...</th>\n",
       "      <td>...</td>\n",
       "      <td>...</td>\n",
       "      <td>...</td>\n",
       "      <td>...</td>\n",
       "      <td>...</td>\n",
       "    </tr>\n",
       "    <tr>\n",
       "      <th>92</th>\n",
       "      <td>Randy Detman</td>\n",
       "      <td>Logo</td>\n",
       "      <td>200.0</td>\n",
       "      <td>2023</td>\n",
       "      <td>Logo</td>\n",
       "    </tr>\n",
       "    <tr>\n",
       "      <th>93</th>\n",
       "      <td>Latvia</td>\n",
       "      <td>Sid's shirts</td>\n",
       "      <td>50.0</td>\n",
       "      <td>2023</td>\n",
       "      <td>Merch</td>\n",
       "    </tr>\n",
       "    <tr>\n",
       "      <th>94</th>\n",
       "      <td>Watsonville</td>\n",
       "      <td>Cleaner Uber</td>\n",
       "      <td>20.0</td>\n",
       "      <td>2023</td>\n",
       "      <td>Cleaning</td>\n",
       "    </tr>\n",
       "    <tr>\n",
       "      <th>95</th>\n",
       "      <td>Bitter Barbie</td>\n",
       "      <td>New t-shirts advance payment</td>\n",
       "      <td>150.0</td>\n",
       "      <td>2023</td>\n",
       "      <td>Merch</td>\n",
       "    </tr>\n",
       "    <tr>\n",
       "      <th>96</th>\n",
       "      <td>Morning Glory</td>\n",
       "      <td>carpet cleaner</td>\n",
       "      <td>20.0</td>\n",
       "      <td>2023</td>\n",
       "      <td>Cleaning</td>\n",
       "    </tr>\n",
       "  </tbody>\n",
       "</table>\n",
       "<p>97 rows × 5 columns</p>\n",
       "</div>"
      ],
      "text/plain": [
       "             Name                       Expense  Amount  Year  Category\n",
       "0    Randy Detman                    Key chains   150.0  2017     Merch\n",
       "1   Morning Glory        Liquor / Food / Costco    50.0  2017    Costco\n",
       "2    Randy Detman              Cleaning service    60.0  2017  Cleaning\n",
       "3    Randy Detman                Carpet cleaner    50.0  2017  Cleaning\n",
       "4   Morning Glory                     Brau kegs   140.0  2017       Bar\n",
       "..            ...                           ...     ...   ...       ...\n",
       "92   Randy Detman                          Logo   200.0  2023      Logo\n",
       "93         Latvia                  Sid's shirts    50.0  2023     Merch\n",
       "94    Watsonville                  Cleaner Uber    20.0  2023  Cleaning\n",
       "95  Bitter Barbie  New t-shirts advance payment   150.0  2023     Merch\n",
       "96  Morning Glory                carpet cleaner    20.0  2023  Cleaning\n",
       "\n",
       "[97 rows x 5 columns]"
      ]
     },
     "execution_count": 4,
     "metadata": {},
     "output_type": "execute_result"
    }
   ],
   "source": [
    "# rename columns\n",
    "df = df.rename(columns={\"Expense Amt\": \"Amount\", \"Date bought\": \"Year\"})\n",
    "df"
   ]
  },
  {
   "cell_type": "markdown",
   "metadata": {},
   "source": [
    "##### Break the Costco Category up. One-third to Food, Two-thirds to Bar."
   ]
  },
  {
   "cell_type": "code",
   "execution_count": 5,
   "metadata": {},
   "outputs": [
    {
     "data": {
      "text/html": [
       "<div>\n",
       "<style scoped>\n",
       "    .dataframe tbody tr th:only-of-type {\n",
       "        vertical-align: middle;\n",
       "    }\n",
       "\n",
       "    .dataframe tbody tr th {\n",
       "        vertical-align: top;\n",
       "    }\n",
       "\n",
       "    .dataframe thead th {\n",
       "        text-align: right;\n",
       "    }\n",
       "</style>\n",
       "<table border=\"1\" class=\"dataframe\">\n",
       "  <thead>\n",
       "    <tr style=\"text-align: right;\">\n",
       "      <th></th>\n",
       "      <th>Name</th>\n",
       "      <th>Expense</th>\n",
       "      <th>Amount</th>\n",
       "      <th>Year</th>\n",
       "      <th>Category</th>\n",
       "    </tr>\n",
       "  </thead>\n",
       "  <tbody>\n",
       "    <tr>\n",
       "      <th>0</th>\n",
       "      <td>Randy Detman</td>\n",
       "      <td>Key chains</td>\n",
       "      <td>150.000000</td>\n",
       "      <td>2017</td>\n",
       "      <td>Merch</td>\n",
       "    </tr>\n",
       "    <tr>\n",
       "      <th>1</th>\n",
       "      <td>Randy Detman</td>\n",
       "      <td>Cleaning service</td>\n",
       "      <td>60.000000</td>\n",
       "      <td>2017</td>\n",
       "      <td>Cleaning</td>\n",
       "    </tr>\n",
       "    <tr>\n",
       "      <th>2</th>\n",
       "      <td>Randy Detman</td>\n",
       "      <td>Carpet cleaner</td>\n",
       "      <td>50.000000</td>\n",
       "      <td>2017</td>\n",
       "      <td>Cleaning</td>\n",
       "    </tr>\n",
       "    <tr>\n",
       "      <th>3</th>\n",
       "      <td>Morning Glory</td>\n",
       "      <td>Brau kegs</td>\n",
       "      <td>140.000000</td>\n",
       "      <td>2017</td>\n",
       "      <td>Bar</td>\n",
       "    </tr>\n",
       "    <tr>\n",
       "      <th>4</th>\n",
       "      <td>Tom Brady</td>\n",
       "      <td>Plates/cups etc</td>\n",
       "      <td>50.000000</td>\n",
       "      <td>2017</td>\n",
       "      <td>Food</td>\n",
       "    </tr>\n",
       "    <tr>\n",
       "      <th>...</th>\n",
       "      <td>...</td>\n",
       "      <td>...</td>\n",
       "      <td>...</td>\n",
       "      <td>...</td>\n",
       "      <td>...</td>\n",
       "    </tr>\n",
       "    <tr>\n",
       "      <th>99</th>\n",
       "      <td>Morning Glory</td>\n",
       "      <td>Costco Liquor / Plates / Paper Towels, TP, tra...</td>\n",
       "      <td>133.333333</td>\n",
       "      <td>2019</td>\n",
       "      <td>Bar</td>\n",
       "    </tr>\n",
       "    <tr>\n",
       "      <th>100</th>\n",
       "      <td>Randy Detman</td>\n",
       "      <td>Costco part 2</td>\n",
       "      <td>34.240000</td>\n",
       "      <td>2019</td>\n",
       "      <td>Bar</td>\n",
       "    </tr>\n",
       "    <tr>\n",
       "      <th>101</th>\n",
       "      <td>Randy Detman</td>\n",
       "      <td>Costco</td>\n",
       "      <td>178.773333</td>\n",
       "      <td>2021</td>\n",
       "      <td>Bar</td>\n",
       "    </tr>\n",
       "    <tr>\n",
       "      <th>102</th>\n",
       "      <td>Randy Detman</td>\n",
       "      <td>Costco</td>\n",
       "      <td>282.013333</td>\n",
       "      <td>2022</td>\n",
       "      <td>Bar</td>\n",
       "    </tr>\n",
       "    <tr>\n",
       "      <th>103</th>\n",
       "      <td>Randy Detman</td>\n",
       "      <td>Costco</td>\n",
       "      <td>210.306667</td>\n",
       "      <td>2023</td>\n",
       "      <td>Bar</td>\n",
       "    </tr>\n",
       "  </tbody>\n",
       "</table>\n",
       "<p>104 rows × 5 columns</p>\n",
       "</div>"
      ],
      "text/plain": [
       "              Name                                            Expense  \\\n",
       "0     Randy Detman                                         Key chains   \n",
       "1     Randy Detman                                   Cleaning service   \n",
       "2     Randy Detman                                     Carpet cleaner   \n",
       "3    Morning Glory                                          Brau kegs   \n",
       "4        Tom Brady                                    Plates/cups etc   \n",
       "..             ...                                                ...   \n",
       "99   Morning Glory  Costco Liquor / Plates / Paper Towels, TP, tra...   \n",
       "100   Randy Detman                                      Costco part 2   \n",
       "101   Randy Detman                                             Costco   \n",
       "102   Randy Detman                                             Costco   \n",
       "103   Randy Detman                                             Costco   \n",
       "\n",
       "         Amount  Year  Category  \n",
       "0    150.000000  2017     Merch  \n",
       "1     60.000000  2017  Cleaning  \n",
       "2     50.000000  2017  Cleaning  \n",
       "3    140.000000  2017       Bar  \n",
       "4     50.000000  2017      Food  \n",
       "..          ...   ...       ...  \n",
       "99   133.333333  2019       Bar  \n",
       "100   34.240000  2019       Bar  \n",
       "101  178.773333  2021       Bar  \n",
       "102  282.013333  2022       Bar  \n",
       "103  210.306667  2023       Bar  \n",
       "\n",
       "[104 rows x 5 columns]"
      ]
     },
     "execution_count": 5,
     "metadata": {},
     "output_type": "execute_result"
    }
   ],
   "source": [
    "# Re-categorize Costco, giving 1/3 to Food, 2/3 to Bar\n",
    "# food\n",
    "df_food = df[df.Category == \"Costco\"].copy()\n",
    "df_food.Amount /= 3\n",
    "df_food.Category = \"Food\"\n",
    "# bar\n",
    "df_bar = df[df.Category == \"Costco\"].copy()\n",
    "df_bar.Amount *= 2 / 3\n",
    "df_bar.Category = \"Bar\"\n",
    "\n",
    "# remove Costco from original df\n",
    "df = df[df.Category != \"Costco\"]\n",
    "\n",
    "# combine all dfs\n",
    "df = pd.concat([df, df_food, df_bar], ignore_index=True)\n",
    "df"
   ]
  },
  {
   "cell_type": "markdown",
   "metadata": {},
   "source": [
    "## <center>reim_df = `reimbursements.csv`</center>"
   ]
  },
  {
   "cell_type": "code",
   "execution_count": 6,
   "metadata": {},
   "outputs": [
    {
     "data": {
      "text/html": [
       "<div>\n",
       "<style scoped>\n",
       "    .dataframe tbody tr th:only-of-type {\n",
       "        vertical-align: middle;\n",
       "    }\n",
       "\n",
       "    .dataframe tbody tr th {\n",
       "        vertical-align: top;\n",
       "    }\n",
       "\n",
       "    .dataframe thead th {\n",
       "        text-align: right;\n",
       "    }\n",
       "</style>\n",
       "<table border=\"1\" class=\"dataframe\">\n",
       "  <thead>\n",
       "    <tr style=\"text-align: right;\">\n",
       "      <th></th>\n",
       "      <th>Year</th>\n",
       "      <th>Name</th>\n",
       "      <th>Paid</th>\n",
       "    </tr>\n",
       "  </thead>\n",
       "  <tbody>\n",
       "    <tr>\n",
       "      <th>0</th>\n",
       "      <td>2017</td>\n",
       "      <td>Randy Detman</td>\n",
       "      <td>647</td>\n",
       "    </tr>\n",
       "    <tr>\n",
       "      <th>1</th>\n",
       "      <td>2017</td>\n",
       "      <td>Watsonville</td>\n",
       "      <td>40</td>\n",
       "    </tr>\n",
       "    <tr>\n",
       "      <th>2</th>\n",
       "      <td>2017</td>\n",
       "      <td>Morning Glory</td>\n",
       "      <td>190</td>\n",
       "    </tr>\n",
       "    <tr>\n",
       "      <th>3</th>\n",
       "      <td>2017</td>\n",
       "      <td>Tom Brady</td>\n",
       "      <td>337</td>\n",
       "    </tr>\n",
       "    <tr>\n",
       "      <th>4</th>\n",
       "      <td>2018</td>\n",
       "      <td>Randy Detman</td>\n",
       "      <td>950</td>\n",
       "    </tr>\n",
       "  </tbody>\n",
       "</table>\n",
       "</div>"
      ],
      "text/plain": [
       "   Year           Name Paid\n",
       "0  2017   Randy Detman  647\n",
       "1  2017    Watsonville   40\n",
       "2  2017  Morning Glory  190\n",
       "3  2017      Tom Brady  337\n",
       "4  2018   Randy Detman  950"
      ]
     },
     "execution_count": 6,
     "metadata": {},
     "output_type": "execute_result"
    }
   ],
   "source": [
    "# read in pay_outs csv as a df\n",
    "reim_df = pd.read_csv(\"./resources/reimbursements.csv\")\n",
    "reim_df.head()"
   ]
  },
  {
   "cell_type": "code",
   "execution_count": 7,
   "metadata": {},
   "outputs": [
    {
     "data": {
      "text/plain": [
       "Year      int64\n",
       "Name     object\n",
       "Paid    float64\n",
       "dtype: object"
      ]
     },
     "execution_count": 7,
     "metadata": {},
     "output_type": "execute_result"
    }
   ],
   "source": [
    "# convert all 'Paid' to float with regex (remove $ and ,)\n",
    "reim_df.Paid = reim_df.Paid.replace(\"[\\$,]\", \"\", regex=True).astype(float)\n",
    "\n",
    "# confirm all of 'Paid' are floats\n",
    "reim_df.dtypes"
   ]
  },
  {
   "cell_type": "code",
   "execution_count": 8,
   "metadata": {},
   "outputs": [
    {
     "data": {
      "text/html": [
       "<div>\n",
       "<style scoped>\n",
       "    .dataframe tbody tr th:only-of-type {\n",
       "        vertical-align: middle;\n",
       "    }\n",
       "\n",
       "    .dataframe tbody tr th {\n",
       "        vertical-align: top;\n",
       "    }\n",
       "\n",
       "    .dataframe thead th {\n",
       "        text-align: right;\n",
       "    }\n",
       "</style>\n",
       "<table border=\"1\" class=\"dataframe\">\n",
       "  <thead>\n",
       "    <tr style=\"text-align: right;\">\n",
       "      <th></th>\n",
       "      <th>Year</th>\n",
       "      <th>Name</th>\n",
       "      <th>Paid</th>\n",
       "    </tr>\n",
       "  </thead>\n",
       "  <tbody>\n",
       "    <tr>\n",
       "      <th>0</th>\n",
       "      <td>2017</td>\n",
       "      <td>Randy Detman</td>\n",
       "      <td>647.00</td>\n",
       "    </tr>\n",
       "    <tr>\n",
       "      <th>1</th>\n",
       "      <td>2017</td>\n",
       "      <td>Watsonville</td>\n",
       "      <td>40.00</td>\n",
       "    </tr>\n",
       "    <tr>\n",
       "      <th>2</th>\n",
       "      <td>2017</td>\n",
       "      <td>Morning Glory</td>\n",
       "      <td>190.00</td>\n",
       "    </tr>\n",
       "    <tr>\n",
       "      <th>3</th>\n",
       "      <td>2017</td>\n",
       "      <td>Tom Brady</td>\n",
       "      <td>337.00</td>\n",
       "    </tr>\n",
       "    <tr>\n",
       "      <th>4</th>\n",
       "      <td>2018</td>\n",
       "      <td>Randy Detman</td>\n",
       "      <td>950.00</td>\n",
       "    </tr>\n",
       "    <tr>\n",
       "      <th>5</th>\n",
       "      <td>2018</td>\n",
       "      <td>Morning Glory</td>\n",
       "      <td>367.00</td>\n",
       "    </tr>\n",
       "    <tr>\n",
       "      <th>6</th>\n",
       "      <td>2018</td>\n",
       "      <td>Tom Brady</td>\n",
       "      <td>567.00</td>\n",
       "    </tr>\n",
       "    <tr>\n",
       "      <th>7</th>\n",
       "      <td>2019</td>\n",
       "      <td>Randy Detman</td>\n",
       "      <td>938.98</td>\n",
       "    </tr>\n",
       "    <tr>\n",
       "      <th>8</th>\n",
       "      <td>2019</td>\n",
       "      <td>Morning Glory</td>\n",
       "      <td>725.00</td>\n",
       "    </tr>\n",
       "    <tr>\n",
       "      <th>9</th>\n",
       "      <td>2019</td>\n",
       "      <td>Tom Brady</td>\n",
       "      <td>700.00</td>\n",
       "    </tr>\n",
       "    <tr>\n",
       "      <th>10</th>\n",
       "      <td>2019</td>\n",
       "      <td>Bitter Barbie</td>\n",
       "      <td>128.00</td>\n",
       "    </tr>\n",
       "    <tr>\n",
       "      <th>11</th>\n",
       "      <td>2019</td>\n",
       "      <td>Chicago</td>\n",
       "      <td>256.00</td>\n",
       "    </tr>\n",
       "    <tr>\n",
       "      <th>12</th>\n",
       "      <td>2019</td>\n",
       "      <td>Florida</td>\n",
       "      <td>106.37</td>\n",
       "    </tr>\n",
       "    <tr>\n",
       "      <th>13</th>\n",
       "      <td>2019</td>\n",
       "      <td>Burntwood Gardens</td>\n",
       "      <td>114.00</td>\n",
       "    </tr>\n",
       "    <tr>\n",
       "      <th>14</th>\n",
       "      <td>2019</td>\n",
       "      <td>Scotland</td>\n",
       "      <td>75.00</td>\n",
       "    </tr>\n",
       "    <tr>\n",
       "      <th>15</th>\n",
       "      <td>2019</td>\n",
       "      <td>Tarot</td>\n",
       "      <td>20.00</td>\n",
       "    </tr>\n",
       "    <tr>\n",
       "      <th>16</th>\n",
       "      <td>2021</td>\n",
       "      <td>Randy Detman</td>\n",
       "      <td>990.50</td>\n",
       "    </tr>\n",
       "    <tr>\n",
       "      <th>17</th>\n",
       "      <td>2021</td>\n",
       "      <td>Morning Glory</td>\n",
       "      <td>990.50</td>\n",
       "    </tr>\n",
       "    <tr>\n",
       "      <th>18</th>\n",
       "      <td>2022</td>\n",
       "      <td>Randy Detman</td>\n",
       "      <td>2002.94</td>\n",
       "    </tr>\n",
       "    <tr>\n",
       "      <th>19</th>\n",
       "      <td>2022</td>\n",
       "      <td>Morning Glory</td>\n",
       "      <td>566.00</td>\n",
       "    </tr>\n",
       "    <tr>\n",
       "      <th>20</th>\n",
       "      <td>2022</td>\n",
       "      <td>Tom Brady</td>\n",
       "      <td>1250.00</td>\n",
       "    </tr>\n",
       "    <tr>\n",
       "      <th>21</th>\n",
       "      <td>2022</td>\n",
       "      <td>Bitter Barbie</td>\n",
       "      <td>772.52</td>\n",
       "    </tr>\n",
       "    <tr>\n",
       "      <th>22</th>\n",
       "      <td>2022</td>\n",
       "      <td>Burntwood Gardens</td>\n",
       "      <td>176.74</td>\n",
       "    </tr>\n",
       "    <tr>\n",
       "      <th>23</th>\n",
       "      <td>2023</td>\n",
       "      <td>Randy Detman</td>\n",
       "      <td>1345.46</td>\n",
       "    </tr>\n",
       "    <tr>\n",
       "      <th>24</th>\n",
       "      <td>2023</td>\n",
       "      <td>Watsonville</td>\n",
       "      <td>1250.00</td>\n",
       "    </tr>\n",
       "    <tr>\n",
       "      <th>25</th>\n",
       "      <td>2023</td>\n",
       "      <td>Morning Glory</td>\n",
       "      <td>554.00</td>\n",
       "    </tr>\n",
       "    <tr>\n",
       "      <th>26</th>\n",
       "      <td>2023</td>\n",
       "      <td>Bitter Barbie</td>\n",
       "      <td>1012.05</td>\n",
       "    </tr>\n",
       "    <tr>\n",
       "      <th>27</th>\n",
       "      <td>2023</td>\n",
       "      <td>Burntwood Gardens</td>\n",
       "      <td>272.00</td>\n",
       "    </tr>\n",
       "    <tr>\n",
       "      <th>28</th>\n",
       "      <td>2023</td>\n",
       "      <td>Latvia</td>\n",
       "      <td>51.00</td>\n",
       "    </tr>\n",
       "    <tr>\n",
       "      <th>29</th>\n",
       "      <td>2023</td>\n",
       "      <td>Randy Detman</td>\n",
       "      <td>200.00</td>\n",
       "    </tr>\n",
       "  </tbody>\n",
       "</table>\n",
       "</div>"
      ],
      "text/plain": [
       "    Year               Name     Paid\n",
       "0   2017       Randy Detman   647.00\n",
       "1   2017        Watsonville    40.00\n",
       "2   2017      Morning Glory   190.00\n",
       "3   2017          Tom Brady   337.00\n",
       "4   2018       Randy Detman   950.00\n",
       "5   2018      Morning Glory   367.00\n",
       "6   2018          Tom Brady   567.00\n",
       "7   2019       Randy Detman   938.98\n",
       "8   2019      Morning Glory   725.00\n",
       "9   2019          Tom Brady   700.00\n",
       "10  2019      Bitter Barbie   128.00\n",
       "11  2019            Chicago   256.00\n",
       "12  2019            Florida   106.37\n",
       "13  2019  Burntwood Gardens   114.00\n",
       "14  2019           Scotland    75.00\n",
       "15  2019              Tarot    20.00\n",
       "16  2021       Randy Detman   990.50\n",
       "17  2021      Morning Glory   990.50\n",
       "18  2022       Randy Detman  2002.94\n",
       "19  2022      Morning Glory   566.00\n",
       "20  2022          Tom Brady  1250.00\n",
       "21  2022      Bitter Barbie   772.52\n",
       "22  2022  Burntwood Gardens   176.74\n",
       "23  2023       Randy Detman  1345.46\n",
       "24  2023        Watsonville  1250.00\n",
       "25  2023      Morning Glory   554.00\n",
       "26  2023      Bitter Barbie  1012.05\n",
       "27  2023  Burntwood Gardens   272.00\n",
       "28  2023             Latvia    51.00\n",
       "29  2023       Randy Detman   200.00"
      ]
     },
     "execution_count": 8,
     "metadata": {},
     "output_type": "execute_result"
    }
   ],
   "source": [
    "reim_df"
   ]
  },
  {
   "cell_type": "markdown",
   "metadata": {},
   "source": [
    "## <center>don_df = `donations.csv`</center>"
   ]
  },
  {
   "cell_type": "code",
   "execution_count": 9,
   "metadata": {},
   "outputs": [
    {
     "data": {
      "text/html": [
       "<div>\n",
       "<style scoped>\n",
       "    .dataframe tbody tr th:only-of-type {\n",
       "        vertical-align: middle;\n",
       "    }\n",
       "\n",
       "    .dataframe tbody tr th {\n",
       "        vertical-align: top;\n",
       "    }\n",
       "\n",
       "    .dataframe thead th {\n",
       "        text-align: right;\n",
       "    }\n",
       "</style>\n",
       "<table border=\"1\" class=\"dataframe\">\n",
       "  <thead>\n",
       "    <tr style=\"text-align: right;\">\n",
       "      <th></th>\n",
       "      <th>year</th>\n",
       "      <th>donations</th>\n",
       "    </tr>\n",
       "  </thead>\n",
       "  <tbody>\n",
       "    <tr>\n",
       "      <th>0</th>\n",
       "      <td>2023</td>\n",
       "      <td>$5,095.00</td>\n",
       "    </tr>\n",
       "    <tr>\n",
       "      <th>1</th>\n",
       "      <td>2022</td>\n",
       "      <td>$5,485.00</td>\n",
       "    </tr>\n",
       "    <tr>\n",
       "      <th>2</th>\n",
       "      <td>2021</td>\n",
       "      <td>$1,981.00</td>\n",
       "    </tr>\n",
       "    <tr>\n",
       "      <th>3</th>\n",
       "      <td>2019</td>\n",
       "      <td>$3,242.40</td>\n",
       "    </tr>\n",
       "    <tr>\n",
       "      <th>4</th>\n",
       "      <td>2018</td>\n",
       "      <td>$1,884.00</td>\n",
       "    </tr>\n",
       "    <tr>\n",
       "      <th>5</th>\n",
       "      <td>2017</td>\n",
       "      <td>$1,214.00</td>\n",
       "    </tr>\n",
       "    <tr>\n",
       "      <th>6</th>\n",
       "      <td>2016</td>\n",
       "      <td>NaN</td>\n",
       "    </tr>\n",
       "    <tr>\n",
       "      <th>7</th>\n",
       "      <td>2015</td>\n",
       "      <td>NaN</td>\n",
       "    </tr>\n",
       "    <tr>\n",
       "      <th>8</th>\n",
       "      <td>2014</td>\n",
       "      <td>NaN</td>\n",
       "    </tr>\n",
       "  </tbody>\n",
       "</table>\n",
       "</div>"
      ],
      "text/plain": [
       "   year  donations\n",
       "0  2023  $5,095.00\n",
       "1  2022  $5,485.00\n",
       "2  2021  $1,981.00\n",
       "3  2019  $3,242.40\n",
       "4  2018  $1,884.00\n",
       "5  2017  $1,214.00\n",
       "6  2016        NaN\n",
       "7  2015        NaN\n",
       "8  2014        NaN"
      ]
     },
     "execution_count": 9,
     "metadata": {},
     "output_type": "execute_result"
    }
   ],
   "source": [
    "don_df = pd.read_csv(\"./resources/donations.csv\")\n",
    "don_df"
   ]
  },
  {
   "cell_type": "code",
   "execution_count": 10,
   "metadata": {},
   "outputs": [
    {
     "data": {
      "text/plain": [
       "year           int64\n",
       "donations    float64\n",
       "dtype: object"
      ]
     },
     "execution_count": 10,
     "metadata": {},
     "output_type": "execute_result"
    }
   ],
   "source": [
    "# convert all 'donations' to float with regex (remove $ and ,)\n",
    "don_df.donations = don_df.donations.replace(\"[\\$,]\", \"\", regex=True).astype(float)\n",
    "\n",
    "# confirm all of 'donations' are floats\n",
    "don_df.dtypes"
   ]
  },
  {
   "cell_type": "code",
   "execution_count": 11,
   "metadata": {},
   "outputs": [
    {
     "data": {
      "text/html": [
       "<div>\n",
       "<style scoped>\n",
       "    .dataframe tbody tr th:only-of-type {\n",
       "        vertical-align: middle;\n",
       "    }\n",
       "\n",
       "    .dataframe tbody tr th {\n",
       "        vertical-align: top;\n",
       "    }\n",
       "\n",
       "    .dataframe thead th {\n",
       "        text-align: right;\n",
       "    }\n",
       "</style>\n",
       "<table border=\"1\" class=\"dataframe\">\n",
       "  <thead>\n",
       "    <tr style=\"text-align: right;\">\n",
       "      <th></th>\n",
       "      <th>Year</th>\n",
       "      <th>Donations</th>\n",
       "    </tr>\n",
       "  </thead>\n",
       "  <tbody>\n",
       "    <tr>\n",
       "      <th>0</th>\n",
       "      <td>2023</td>\n",
       "      <td>5095.0</td>\n",
       "    </tr>\n",
       "    <tr>\n",
       "      <th>1</th>\n",
       "      <td>2022</td>\n",
       "      <td>5485.0</td>\n",
       "    </tr>\n",
       "    <tr>\n",
       "      <th>2</th>\n",
       "      <td>2021</td>\n",
       "      <td>1981.0</td>\n",
       "    </tr>\n",
       "    <tr>\n",
       "      <th>3</th>\n",
       "      <td>2019</td>\n",
       "      <td>3242.4</td>\n",
       "    </tr>\n",
       "    <tr>\n",
       "      <th>4</th>\n",
       "      <td>2018</td>\n",
       "      <td>1884.0</td>\n",
       "    </tr>\n",
       "    <tr>\n",
       "      <th>5</th>\n",
       "      <td>2017</td>\n",
       "      <td>1214.0</td>\n",
       "    </tr>\n",
       "  </tbody>\n",
       "</table>\n",
       "</div>"
      ],
      "text/plain": [
       "   Year  Donations\n",
       "0  2023     5095.0\n",
       "1  2022     5485.0\n",
       "2  2021     1981.0\n",
       "3  2019     3242.4\n",
       "4  2018     1884.0\n",
       "5  2017     1214.0"
      ]
     },
     "execution_count": 11,
     "metadata": {},
     "output_type": "execute_result"
    }
   ],
   "source": [
    "don_df = don_df.rename(columns={\"year\": \"Year\", \"donations\": \"Donations\"})\n",
    "don_df.dropna(inplace=True)\n",
    "don_df"
   ]
  },
  {
   "cell_type": "markdown",
   "metadata": {},
   "source": [
    "## <center>att_df = `attendees.csv`</center>"
   ]
  },
  {
   "cell_type": "code",
   "execution_count": 12,
   "metadata": {},
   "outputs": [
    {
     "data": {
      "text/html": [
       "<div>\n",
       "<style scoped>\n",
       "    .dataframe tbody tr th:only-of-type {\n",
       "        vertical-align: middle;\n",
       "    }\n",
       "\n",
       "    .dataframe tbody tr th {\n",
       "        vertical-align: top;\n",
       "    }\n",
       "\n",
       "    .dataframe thead th {\n",
       "        text-align: right;\n",
       "    }\n",
       "</style>\n",
       "<table border=\"1\" class=\"dataframe\">\n",
       "  <thead>\n",
       "    <tr style=\"text-align: right;\">\n",
       "      <th></th>\n",
       "      <th>year</th>\n",
       "      <th>facebook_going</th>\n",
       "      <th>facebook_maybes</th>\n",
       "    </tr>\n",
       "  </thead>\n",
       "  <tbody>\n",
       "    <tr>\n",
       "      <th>0</th>\n",
       "      <td>2023</td>\n",
       "      <td>97</td>\n",
       "      <td>29</td>\n",
       "    </tr>\n",
       "    <tr>\n",
       "      <th>1</th>\n",
       "      <td>2022</td>\n",
       "      <td>100</td>\n",
       "      <td>40</td>\n",
       "    </tr>\n",
       "    <tr>\n",
       "      <th>2</th>\n",
       "      <td>2021</td>\n",
       "      <td>95</td>\n",
       "      <td>25</td>\n",
       "    </tr>\n",
       "    <tr>\n",
       "      <th>3</th>\n",
       "      <td>2019</td>\n",
       "      <td>194</td>\n",
       "      <td>85</td>\n",
       "    </tr>\n",
       "    <tr>\n",
       "      <th>4</th>\n",
       "      <td>2018</td>\n",
       "      <td>136</td>\n",
       "      <td>54</td>\n",
       "    </tr>\n",
       "    <tr>\n",
       "      <th>5</th>\n",
       "      <td>2017</td>\n",
       "      <td>156</td>\n",
       "      <td>76</td>\n",
       "    </tr>\n",
       "    <tr>\n",
       "      <th>6</th>\n",
       "      <td>2016</td>\n",
       "      <td>59</td>\n",
       "      <td>29</td>\n",
       "    </tr>\n",
       "    <tr>\n",
       "      <th>7</th>\n",
       "      <td>2015</td>\n",
       "      <td>127</td>\n",
       "      <td>49</td>\n",
       "    </tr>\n",
       "    <tr>\n",
       "      <th>8</th>\n",
       "      <td>2014</td>\n",
       "      <td>40</td>\n",
       "      <td>11</td>\n",
       "    </tr>\n",
       "  </tbody>\n",
       "</table>\n",
       "</div>"
      ],
      "text/plain": [
       "   year  facebook_going  facebook_maybes\n",
       "0  2023              97               29\n",
       "1  2022             100               40\n",
       "2  2021              95               25\n",
       "3  2019             194               85\n",
       "4  2018             136               54\n",
       "5  2017             156               76\n",
       "6  2016              59               29\n",
       "7  2015             127               49\n",
       "8  2014              40               11"
      ]
     },
     "execution_count": 12,
     "metadata": {},
     "output_type": "execute_result"
    }
   ],
   "source": [
    "att_df = pd.read_csv(\"./resources/attendees.csv\")\n",
    "att_df"
   ]
  },
  {
   "cell_type": "code",
   "execution_count": 13,
   "metadata": {},
   "outputs": [
    {
     "data": {
      "text/plain": [
       "year               int64\n",
       "facebook_going     int64\n",
       "facebook_maybes    int64\n",
       "dtype: object"
      ]
     },
     "execution_count": 13,
     "metadata": {},
     "output_type": "execute_result"
    }
   ],
   "source": [
    "att_df.dtypes"
   ]
  },
  {
   "cell_type": "code",
   "execution_count": 14,
   "metadata": {},
   "outputs": [
    {
     "data": {
      "text/html": [
       "<div>\n",
       "<style scoped>\n",
       "    .dataframe tbody tr th:only-of-type {\n",
       "        vertical-align: middle;\n",
       "    }\n",
       "\n",
       "    .dataframe tbody tr th {\n",
       "        vertical-align: top;\n",
       "    }\n",
       "\n",
       "    .dataframe thead th {\n",
       "        text-align: right;\n",
       "    }\n",
       "</style>\n",
       "<table border=\"1\" class=\"dataframe\">\n",
       "  <thead>\n",
       "    <tr style=\"text-align: right;\">\n",
       "      <th></th>\n",
       "      <th>Year</th>\n",
       "      <th>Going</th>\n",
       "      <th>Maybes</th>\n",
       "    </tr>\n",
       "  </thead>\n",
       "  <tbody>\n",
       "    <tr>\n",
       "      <th>0</th>\n",
       "      <td>2023</td>\n",
       "      <td>97</td>\n",
       "      <td>29</td>\n",
       "    </tr>\n",
       "    <tr>\n",
       "      <th>1</th>\n",
       "      <td>2022</td>\n",
       "      <td>100</td>\n",
       "      <td>40</td>\n",
       "    </tr>\n",
       "    <tr>\n",
       "      <th>2</th>\n",
       "      <td>2021</td>\n",
       "      <td>95</td>\n",
       "      <td>25</td>\n",
       "    </tr>\n",
       "    <tr>\n",
       "      <th>3</th>\n",
       "      <td>2019</td>\n",
       "      <td>194</td>\n",
       "      <td>85</td>\n",
       "    </tr>\n",
       "    <tr>\n",
       "      <th>4</th>\n",
       "      <td>2018</td>\n",
       "      <td>136</td>\n",
       "      <td>54</td>\n",
       "    </tr>\n",
       "    <tr>\n",
       "      <th>5</th>\n",
       "      <td>2017</td>\n",
       "      <td>156</td>\n",
       "      <td>76</td>\n",
       "    </tr>\n",
       "    <tr>\n",
       "      <th>6</th>\n",
       "      <td>2016</td>\n",
       "      <td>59</td>\n",
       "      <td>29</td>\n",
       "    </tr>\n",
       "    <tr>\n",
       "      <th>7</th>\n",
       "      <td>2015</td>\n",
       "      <td>127</td>\n",
       "      <td>49</td>\n",
       "    </tr>\n",
       "    <tr>\n",
       "      <th>8</th>\n",
       "      <td>2014</td>\n",
       "      <td>40</td>\n",
       "      <td>11</td>\n",
       "    </tr>\n",
       "  </tbody>\n",
       "</table>\n",
       "</div>"
      ],
      "text/plain": [
       "   Year  Going  Maybes\n",
       "0  2023     97      29\n",
       "1  2022    100      40\n",
       "2  2021     95      25\n",
       "3  2019    194      85\n",
       "4  2018    136      54\n",
       "5  2017    156      76\n",
       "6  2016     59      29\n",
       "7  2015    127      49\n",
       "8  2014     40      11"
      ]
     },
     "execution_count": 14,
     "metadata": {},
     "output_type": "execute_result"
    }
   ],
   "source": [
    "att_df = att_df.rename(\n",
    "    columns={\"year\": \"Year\", \"facebook_going\": \"Going\", \"facebook_maybes\": \"Maybes\"}\n",
    ")\n",
    "att_df"
   ]
  },
  {
   "cell_type": "markdown",
   "metadata": {},
   "source": [
    "#### Data wrangling complete\n",
    "\n",
    "#### ------------\n",
    "\n",
    "## Describe the dfs\n",
    "\n",
    "- [Back to Table of Contents](#table-of-contents)\n",
    "\n",
    "Basic stats. Count of rows / entries. Mean (average), max and min, standard deviation, quartiles. Ignore the Year column."
   ]
  },
  {
   "cell_type": "code",
   "execution_count": 15,
   "metadata": {},
   "outputs": [
    {
     "data": {
      "text/html": [
       "<div>\n",
       "<style scoped>\n",
       "    .dataframe tbody tr th:only-of-type {\n",
       "        vertical-align: middle;\n",
       "    }\n",
       "\n",
       "    .dataframe tbody tr th {\n",
       "        vertical-align: top;\n",
       "    }\n",
       "\n",
       "    .dataframe thead th {\n",
       "        text-align: right;\n",
       "    }\n",
       "</style>\n",
       "<table border=\"1\" class=\"dataframe\">\n",
       "  <thead>\n",
       "    <tr style=\"text-align: right;\">\n",
       "      <th></th>\n",
       "      <th>Amount</th>\n",
       "      <th>Year</th>\n",
       "    </tr>\n",
       "  </thead>\n",
       "  <tbody>\n",
       "    <tr>\n",
       "      <th>count</th>\n",
       "      <td>104.000000</td>\n",
       "      <td>104.000000</td>\n",
       "    </tr>\n",
       "    <tr>\n",
       "      <th>mean</th>\n",
       "      <td>179.052308</td>\n",
       "      <td>2020.250000</td>\n",
       "    </tr>\n",
       "    <tr>\n",
       "      <th>std</th>\n",
       "      <td>201.174648</td>\n",
       "      <td>2.171081</td>\n",
       "    </tr>\n",
       "    <tr>\n",
       "      <th>min</th>\n",
       "      <td>0.000000</td>\n",
       "      <td>2017.000000</td>\n",
       "    </tr>\n",
       "    <tr>\n",
       "      <th>25%</th>\n",
       "      <td>60.000000</td>\n",
       "      <td>2018.750000</td>\n",
       "    </tr>\n",
       "    <tr>\n",
       "      <th>50%</th>\n",
       "      <td>105.761667</td>\n",
       "      <td>2021.000000</td>\n",
       "    </tr>\n",
       "    <tr>\n",
       "      <th>75%</th>\n",
       "      <td>200.000000</td>\n",
       "      <td>2022.000000</td>\n",
       "    </tr>\n",
       "    <tr>\n",
       "      <th>max</th>\n",
       "      <td>950.000000</td>\n",
       "      <td>2023.000000</td>\n",
       "    </tr>\n",
       "  </tbody>\n",
       "</table>\n",
       "</div>"
      ],
      "text/plain": [
       "           Amount         Year\n",
       "count  104.000000   104.000000\n",
       "mean   179.052308  2020.250000\n",
       "std    201.174648     2.171081\n",
       "min      0.000000  2017.000000\n",
       "25%     60.000000  2018.750000\n",
       "50%    105.761667  2021.000000\n",
       "75%    200.000000  2022.000000\n",
       "max    950.000000  2023.000000"
      ]
     },
     "execution_count": 15,
     "metadata": {},
     "output_type": "execute_result"
    }
   ],
   "source": [
    "df.describe()  # expenses"
   ]
  },
  {
   "cell_type": "code",
   "execution_count": 16,
   "metadata": {},
   "outputs": [
    {
     "data": {
      "text/html": [
       "<div>\n",
       "<style scoped>\n",
       "    .dataframe tbody tr th:only-of-type {\n",
       "        vertical-align: middle;\n",
       "    }\n",
       "\n",
       "    .dataframe tbody tr th {\n",
       "        vertical-align: top;\n",
       "    }\n",
       "\n",
       "    .dataframe thead th {\n",
       "        text-align: right;\n",
       "    }\n",
       "</style>\n",
       "<table border=\"1\" class=\"dataframe\">\n",
       "  <thead>\n",
       "    <tr style=\"text-align: right;\">\n",
       "      <th></th>\n",
       "      <th>Year</th>\n",
       "      <th>Paid</th>\n",
       "    </tr>\n",
       "  </thead>\n",
       "  <tbody>\n",
       "    <tr>\n",
       "      <th>count</th>\n",
       "      <td>30.000000</td>\n",
       "      <td>30.000000</td>\n",
       "    </tr>\n",
       "    <tr>\n",
       "      <th>mean</th>\n",
       "      <td>2020.200000</td>\n",
       "      <td>586.502000</td>\n",
       "    </tr>\n",
       "    <tr>\n",
       "      <th>std</th>\n",
       "      <td>2.203446</td>\n",
       "      <td>488.626515</td>\n",
       "    </tr>\n",
       "    <tr>\n",
       "      <th>min</th>\n",
       "      <td>2017.000000</td>\n",
       "      <td>20.000000</td>\n",
       "    </tr>\n",
       "    <tr>\n",
       "      <th>25%</th>\n",
       "      <td>2019.000000</td>\n",
       "      <td>180.055000</td>\n",
       "    </tr>\n",
       "    <tr>\n",
       "      <th>50%</th>\n",
       "      <td>2019.000000</td>\n",
       "      <td>560.000000</td>\n",
       "    </tr>\n",
       "    <tr>\n",
       "      <th>75%</th>\n",
       "      <td>2022.000000</td>\n",
       "      <td>947.245000</td>\n",
       "    </tr>\n",
       "    <tr>\n",
       "      <th>max</th>\n",
       "      <td>2023.000000</td>\n",
       "      <td>2002.940000</td>\n",
       "    </tr>\n",
       "  </tbody>\n",
       "</table>\n",
       "</div>"
      ],
      "text/plain": [
       "              Year         Paid\n",
       "count    30.000000    30.000000\n",
       "mean   2020.200000   586.502000\n",
       "std       2.203446   488.626515\n",
       "min    2017.000000    20.000000\n",
       "25%    2019.000000   180.055000\n",
       "50%    2019.000000   560.000000\n",
       "75%    2022.000000   947.245000\n",
       "max    2023.000000  2002.940000"
      ]
     },
     "execution_count": 16,
     "metadata": {},
     "output_type": "execute_result"
    }
   ],
   "source": [
    "reim_df.describe()  # reimbursements"
   ]
  },
  {
   "cell_type": "code",
   "execution_count": 17,
   "metadata": {},
   "outputs": [
    {
     "data": {
      "text/html": [
       "<div>\n",
       "<style scoped>\n",
       "    .dataframe tbody tr th:only-of-type {\n",
       "        vertical-align: middle;\n",
       "    }\n",
       "\n",
       "    .dataframe tbody tr th {\n",
       "        vertical-align: top;\n",
       "    }\n",
       "\n",
       "    .dataframe thead th {\n",
       "        text-align: right;\n",
       "    }\n",
       "</style>\n",
       "<table border=\"1\" class=\"dataframe\">\n",
       "  <thead>\n",
       "    <tr style=\"text-align: right;\">\n",
       "      <th></th>\n",
       "      <th>Year</th>\n",
       "      <th>Donations</th>\n",
       "    </tr>\n",
       "  </thead>\n",
       "  <tbody>\n",
       "    <tr>\n",
       "      <th>count</th>\n",
       "      <td>6.000000</td>\n",
       "      <td>6.000000</td>\n",
       "    </tr>\n",
       "    <tr>\n",
       "      <th>mean</th>\n",
       "      <td>2020.000000</td>\n",
       "      <td>3150.233333</td>\n",
       "    </tr>\n",
       "    <tr>\n",
       "      <th>std</th>\n",
       "      <td>2.366432</td>\n",
       "      <td>1786.684104</td>\n",
       "    </tr>\n",
       "    <tr>\n",
       "      <th>min</th>\n",
       "      <td>2017.000000</td>\n",
       "      <td>1214.000000</td>\n",
       "    </tr>\n",
       "    <tr>\n",
       "      <th>25%</th>\n",
       "      <td>2018.250000</td>\n",
       "      <td>1908.250000</td>\n",
       "    </tr>\n",
       "    <tr>\n",
       "      <th>50%</th>\n",
       "      <td>2020.000000</td>\n",
       "      <td>2611.700000</td>\n",
       "    </tr>\n",
       "    <tr>\n",
       "      <th>75%</th>\n",
       "      <td>2021.750000</td>\n",
       "      <td>4631.850000</td>\n",
       "    </tr>\n",
       "    <tr>\n",
       "      <th>max</th>\n",
       "      <td>2023.000000</td>\n",
       "      <td>5485.000000</td>\n",
       "    </tr>\n",
       "  </tbody>\n",
       "</table>\n",
       "</div>"
      ],
      "text/plain": [
       "              Year    Donations\n",
       "count     6.000000     6.000000\n",
       "mean   2020.000000  3150.233333\n",
       "std       2.366432  1786.684104\n",
       "min    2017.000000  1214.000000\n",
       "25%    2018.250000  1908.250000\n",
       "50%    2020.000000  2611.700000\n",
       "75%    2021.750000  4631.850000\n",
       "max    2023.000000  5485.000000"
      ]
     },
     "execution_count": 17,
     "metadata": {},
     "output_type": "execute_result"
    }
   ],
   "source": [
    "don_df.describe()  # donations"
   ]
  },
  {
   "cell_type": "code",
   "execution_count": 18,
   "metadata": {},
   "outputs": [
    {
     "data": {
      "text/html": [
       "<div>\n",
       "<style scoped>\n",
       "    .dataframe tbody tr th:only-of-type {\n",
       "        vertical-align: middle;\n",
       "    }\n",
       "\n",
       "    .dataframe tbody tr th {\n",
       "        vertical-align: top;\n",
       "    }\n",
       "\n",
       "    .dataframe thead th {\n",
       "        text-align: right;\n",
       "    }\n",
       "</style>\n",
       "<table border=\"1\" class=\"dataframe\">\n",
       "  <thead>\n",
       "    <tr style=\"text-align: right;\">\n",
       "      <th></th>\n",
       "      <th>Year</th>\n",
       "      <th>Going</th>\n",
       "      <th>Maybes</th>\n",
       "    </tr>\n",
       "  </thead>\n",
       "  <tbody>\n",
       "    <tr>\n",
       "      <th>count</th>\n",
       "      <td>9.000000</td>\n",
       "      <td>9.000000</td>\n",
       "      <td>9.000000</td>\n",
       "    </tr>\n",
       "    <tr>\n",
       "      <th>mean</th>\n",
       "      <td>2018.333333</td>\n",
       "      <td>111.555556</td>\n",
       "      <td>44.222222</td>\n",
       "    </tr>\n",
       "    <tr>\n",
       "      <th>std</th>\n",
       "      <td>3.162278</td>\n",
       "      <td>47.579174</td>\n",
       "      <td>24.355583</td>\n",
       "    </tr>\n",
       "    <tr>\n",
       "      <th>min</th>\n",
       "      <td>2014.000000</td>\n",
       "      <td>40.000000</td>\n",
       "      <td>11.000000</td>\n",
       "    </tr>\n",
       "    <tr>\n",
       "      <th>25%</th>\n",
       "      <td>2016.000000</td>\n",
       "      <td>95.000000</td>\n",
       "      <td>29.000000</td>\n",
       "    </tr>\n",
       "    <tr>\n",
       "      <th>50%</th>\n",
       "      <td>2018.000000</td>\n",
       "      <td>100.000000</td>\n",
       "      <td>40.000000</td>\n",
       "    </tr>\n",
       "    <tr>\n",
       "      <th>75%</th>\n",
       "      <td>2021.000000</td>\n",
       "      <td>136.000000</td>\n",
       "      <td>54.000000</td>\n",
       "    </tr>\n",
       "    <tr>\n",
       "      <th>max</th>\n",
       "      <td>2023.000000</td>\n",
       "      <td>194.000000</td>\n",
       "      <td>85.000000</td>\n",
       "    </tr>\n",
       "  </tbody>\n",
       "</table>\n",
       "</div>"
      ],
      "text/plain": [
       "              Year       Going     Maybes\n",
       "count     9.000000    9.000000   9.000000\n",
       "mean   2018.333333  111.555556  44.222222\n",
       "std       3.162278   47.579174  24.355583\n",
       "min    2014.000000   40.000000  11.000000\n",
       "25%    2016.000000   95.000000  29.000000\n",
       "50%    2018.000000  100.000000  40.000000\n",
       "75%    2021.000000  136.000000  54.000000\n",
       "max    2023.000000  194.000000  85.000000"
      ]
     },
     "execution_count": 18,
     "metadata": {},
     "output_type": "execute_result"
    }
   ],
   "source": [
    "att_df.describe()  # attendees"
   ]
  },
  {
   "cell_type": "markdown",
   "metadata": {},
   "source": [
    "## Plots!"
   ]
  },
  {
   "cell_type": "markdown",
   "metadata": {},
   "source": [
    "## Total Expenses and Donations\n",
    "\n",
    "- [Back to Table of Contents](#table-of-contents)"
   ]
  },
  {
   "cell_type": "code",
   "execution_count": 19,
   "metadata": {},
   "outputs": [
    {
     "name": "stdout",
     "output_type": "stream",
     "text": [
      "INTRODUCTORY SUMMARY STATS!\n",
      "-------------------------------------\n",
      "Total Spent over all years: $18621.44\n",
      "Total Donated over all years: $18901.40\n",
      "Total Reimbursed over all years: $17595.06\n",
      "\n",
      "Total hypothetical profit over all years: $279.96\n",
      "Total actual profit over all years: $1306.34\n",
      "N.B.: We donated 2022, $716.80. We did not donate 2023 ($411.26) or 2019 ($179.05)\n",
      "We were surprised when we turned a profit in 2019. I think we threw a pizza party.\n",
      "\n",
      "Sum of years with positive profit: $1307.11\n",
      "Sum of years with negative profit: $-1027.15\n",
      "\n",
      "Numbers slightly off due to rounding errors (floating point imprecision)\n"
     ]
    }
   ],
   "source": [
    "print(\"INTRODUCTORY SUMMARY STATS!\")\n",
    "print(\"-------------------------------------\")\n",
    "print(f\"Total Spent over all years: ${df.Amount.sum():.2f}\")\n",
    "print(f\"Total Donated over all years: ${don_df.Donations.sum():.2f}\")\n",
    "print(f\"Total Reimbursed over all years: ${reim_df.Paid.sum():.2f}\\n\")\n",
    "print(\n",
    "    f\"Total hypothetical profit over all years: ${don_df.Donations.sum() - df.Amount.sum():.2f}\"\n",
    ")\n",
    "print(\n",
    "    f\"Total actual profit over all years: ${don_df.Donations.sum() - reim_df.Paid.sum():.2f}\"\n",
    ")\n",
    "print(\n",
    "    f\"N.B.: We donated 2022, $716.80. We did not donate 2023 ($411.26) or 2019 ($179.05)\"\n",
    ")\n",
    "print(\n",
    "    \"We were surprised when we turned a profit in 2019. I think we threw a pizza party.\\n\"\n",
    ")\n",
    "\n",
    "# group by year, calculate total expenses and donations per year\n",
    "df_yearly = df.groupby(\"Year\")[\"Amount\"].sum()\n",
    "don_yearly = don_df.groupby(\"Year\")[\"Donations\"].sum()\n",
    "\n",
    "# calculate profit per year\n",
    "profit_yearly = don_yearly - df_yearly\n",
    "\n",
    "# sum years with positive and negative profit\n",
    "positive_profit_sum = profit_yearly[profit_yearly > 0].round(2).sum()\n",
    "negative_profit_sum = profit_yearly[profit_yearly < 0].sum()\n",
    "\n",
    "# Print the results\n",
    "print(f\"Sum of years with positive profit: ${positive_profit_sum:.2f}\")\n",
    "print(f\"Sum of years with negative profit: ${negative_profit_sum:.2f}\\n\")\n",
    "print(\"Numbers slightly off due to rounding errors (floating point imprecision)\")"
   ]
  },
  {
   "cell_type": "markdown",
   "metadata": {},
   "source": [
    "Wow. $18,621.44 over six years. Not bad for a neighborhood alley block party."
   ]
  },
  {
   "cell_type": "code",
   "execution_count": 20,
   "metadata": {},
   "outputs": [
    {
     "data": {
      "image/png": "[encoded data removed]",
      "text/plain": [
       "<Figure size 1000x600 with 1 Axes>"
      ]
     },
     "metadata": {},
     "output_type": "display_data"
    }
   ],
   "source": [
    "# plot expenses and donations by year as a line chart\n",
    "sns.set_theme(style=\"white\", context=\"talk\")\n",
    "plt.figure(figsize=(10, 6))\n",
    "sns.lineplot(\n",
    "    x=\"Year\", y=\"Amount\", data=df, estimator=\"sum\", errorbar=None, marker=\"o\", color=\"b\"\n",
    ")\n",
    "sns.lineplot(x=\"Year\", y=\"Donations\", data=don_df, errorbar=None, marker=\"o\", color=\"g\")\n",
    "\n",
    "# annotate each data point\n",
    "df_sum = df.groupby(\"Year\")[\"Amount\"].sum()\n",
    "for year, amount in df_sum.items():\n",
    "    plt.text(\n",
    "        year + 0.1, amount, f\"${amount:.2f}\", horizontalalignment=\"left\", color=\"b\"\n",
    "    )\n",
    "for _, row in don_df.iterrows():\n",
    "    year = row.Year\n",
    "    amount = row.Donations\n",
    "    plt.text(\n",
    "        year - 0.1, amount, f\"${amount:.2f}\", horizontalalignment=\"right\", color=\"g\"\n",
    "    )\n",
    "\n",
    "# format plot\n",
    "plt.title(\"Total Expenses by Year\")\n",
    "plt.xlabel(\"Year\")\n",
    "plt.ylabel(\"Total Expenses ($)\")\n",
    "plt.legend([\"Expenses\", \"Donations\"])\n",
    "plt.show()"
   ]
  },
  {
   "cell_type": "markdown",
   "metadata": {},
   "source": [
    "No surprises here. 2021 was bad, all other years were marginal misses or actually turned a profit. 2017 is definitely off, as there is no charge for music, so we probably lost quite a bit of money that year. I'm suspicious about 2018 as well. Tom Brady is generous (and giggling to themselves at all of the kudos I shall be giving to \"Tom Brady\" who, to be clear, is not the famous ball-deflating footballer, but a pseudonym for a dear friend and hapless Patriots fan)."
   ]
  },
  {
   "cell_type": "code",
   "execution_count": 21,
   "metadata": {},
   "outputs": [
    {
     "data": {
      "image/png": "[encoded data removed]",
      "text/plain": [
       "<Figure size 1000x600 with 1 Axes>"
      ]
     },
     "metadata": {},
     "output_type": "display_data"
    }
   ],
   "source": [
    "# bar plot of each year's expenses\n",
    "\n",
    "# group and sort sums by year\n",
    "df_sum = df.groupby(\"Year\")[\"Amount\"].sum().reset_index()\n",
    "df_sum = df_sum.sort_values(\"Amount\", ascending=False)\n",
    "\n",
    "# plot the chart\n",
    "sns.set_theme(style=\"white\")\n",
    "plt.figure(figsize=(10, 6))\n",
    "ax = sns.barplot(x=\"Year\", y=\"Amount\", data=df_sum, palette=\"muted\")\n",
    "\n",
    "# add labels\n",
    "for container in ax.containers:\n",
    "    ax.bar_label(container, fmt=\"$%.2f\", color=\"red\")\n",
    "\n",
    "# format plot\n",
    "plt.title(\"Total Expenses by Year\")\n",
    "plt.xlabel(\"Year\")\n",
    "plt.ylabel(\"Total Amount ($)\")\n",
    "plt.show()"
   ]
  },
  {
   "cell_type": "code",
   "execution_count": 22,
   "metadata": {},
   "outputs": [
    {
     "name": "stdout",
     "output_type": "stream",
     "text": [
      "Before: \n",
      "   Year  Expenses  Donations\n",
      "0  2017   1263.00     1214.0\n",
      "1  2018   1948.30     1884.0\n",
      "2  2019   3063.35     3242.4\n",
      "3  2021   2894.85     1981.0\n",
      "4  2022   4768.20     5485.0\n",
      "5  2023   4683.74     5095.0\n",
      "\n",
      "After: \n",
      "    Year       Type   Amount\n",
      "0   2017   Expenses  1263.00\n",
      "1   2018   Expenses  1948.30\n",
      "2   2019   Expenses  3063.35\n",
      "3   2021   Expenses  2894.85\n",
      "4   2022   Expenses  4768.20\n",
      "5   2023   Expenses  4683.74\n",
      "6   2017  Donations  1214.00\n",
      "7   2018  Donations  1884.00\n",
      "8   2019  Donations  3242.40\n",
      "9   2021  Donations  1981.00\n",
      "10  2022  Donations  5485.00\n",
      "11  2023  Donations  5095.00\n"
     ]
    },
    {
     "data": {
      "image/png": "[encoded data removed]",
      "text/plain": [
       "<Figure size 1000x600 with 1 Axes>"
      ]
     },
     "metadata": {},
     "output_type": "display_data"
    }
   ],
   "source": [
    "# grouped barchart of expenses and donations by year\n",
    "df_sum = df.groupby(\"Year\")[\"Amount\"].sum().reset_index()\n",
    "df_sum.columns = [\"Year\", \"Expenses\"]\n",
    "\n",
    "don_sum = don_df.copy()\n",
    "\n",
    "# merge expenses and donations dfs\n",
    "df_sum = pd.merge(df_sum, don_sum, on=\"Year\", how=\"outer\")\n",
    "\n",
    "# 'unpivot' the df (see print() output for before and after)\n",
    "print(f\"Before: \\n{df_sum}\\n\")\n",
    "df_sum_melt = df_sum.melt(\"Year\", var_name=\"Type\", value_name=\"Amount\")\n",
    "print(f\"After: \\n{df_sum_melt}\")\n",
    "\n",
    "# plot grouped barchart\n",
    "sns.set_theme(style=\"white\")\n",
    "plt.figure(figsize=(10, 6))\n",
    "ax = sns.barplot(x=\"Year\", y=\"Amount\", hue=\"Type\", data=df_sum_melt, palette=\"muted\")\n",
    "\n",
    "# add labels\n",
    "for container in ax.containers:\n",
    "    ax.bar_label(container, fmt=\"$%.2f\", color=\"red\")\n",
    "\n",
    "# format plot\n",
    "plt.title(\"Total Expenses and Donations by Year\")\n",
    "plt.xlabel(\"Year\")\n",
    "plt.ylabel(\"Total Amount ($)\")\n",
    "plt.legend(title=\"Type\")\n",
    "plt.show()"
   ]
  },
  {
   "cell_type": "code",
   "execution_count": 23,
   "metadata": {},
   "outputs": [
    {
     "data": {
      "image/png": "[encoded data removed]",
      "text/plain": [
       "<Figure size 1000x600 with 1 Axes>"
      ]
     },
     "metadata": {},
     "output_type": "display_data"
    }
   ],
   "source": [
    "# plot total expenses by year as a donut chart\n",
    "\n",
    "# group and sort sums by year\n",
    "df_sum = df.groupby(\"Year\")[\"Amount\"].sum().reset_index()\n",
    "df_sum = df_sum.sort_values(\"Amount\", ascending=False)\n",
    "\n",
    "# plot and format donut chart\n",
    "sns.set_theme(style=\"white\", context=\"talk\")\n",
    "plt.figure(figsize=(10, 6))\n",
    "plt.pie(\n",
    "    df_sum.Amount,\n",
    "    labels=df_sum.Year,\n",
    "    autopct=\"%1.1f%%\",\n",
    "    startangle=140,\n",
    "    colors=sns.color_palette(\"muted\"),\n",
    "    wedgeprops=dict(width=0.6, edgecolor=\"w\"),\n",
    ")\n",
    "plt.title(\"Expenses by Year\")\n",
    "plt.show()"
   ]
  },
  {
   "cell_type": "markdown",
   "metadata": {},
   "source": [
    "2022 and 2023 took up more than half of all expenses for the six years we have data. Costs have escalated. This is a central, albeit unsurprising, insight."
   ]
  },
  {
   "cell_type": "code",
   "execution_count": 24,
   "metadata": {},
   "outputs": [
    {
     "data": {
      "image/png": "[encoded data removed]",
      "text/plain": [
       "<Figure size 1000x600 with 1 Axes>"
      ]
     },
     "metadata": {},
     "output_type": "display_data"
    }
   ],
   "source": [
    "# plot donations minus expenses by year as a line chart\n",
    "\n",
    "# group and sum expenses by year\n",
    "df_sum = df.groupby(\"Year\")[\"Amount\"].sum().reset_index()\n",
    "df_sum.columns = [\"Year\", \"Amount\"]\n",
    "\n",
    "don_sum = don_df.copy()  # donations df\n",
    "\n",
    "# merge expenses and donations dfs\n",
    "df_sum = pd.merge(df_sum, don_sum, on=\"Year\", how=\"outer\")\n",
    "\n",
    "# calculate expenses minus donations\n",
    "df_sum[\"Donations_minus_expenses\"] = df_sum[\"Donations\"] - df_sum[\"Amount\"]\n",
    "\n",
    "# plot and format line chart\n",
    "sns.set_theme(style=\"white\", context=\"talk\")\n",
    "plt.figure(figsize=(10, 6))\n",
    "\n",
    "sns.lineplot(\n",
    "    x=\"Year\",\n",
    "    y=\"Donations_minus_expenses\",\n",
    "    data=df_sum,\n",
    "    marker=\"o\",\n",
    "    # color=\"r\",\n",
    "    label=\"Donations - Expenses\",\n",
    ")\n",
    "\n",
    "# Add a horizontal line at y=0\n",
    "plt.axhline(0, color=\"black\", linestyle=\"--\")\n",
    "\n",
    "# annotate each data point\n",
    "for _, row in df_sum.iterrows():\n",
    "    year = row.Year\n",
    "    amount = row.Donations_minus_expenses\n",
    "    color = \"r\" if amount < 0 else \"black\"\n",
    "    plt.text(year, amount, f\"${amount:.2f}\", horizontalalignment=\"right\", color=color)\n",
    "\n",
    "# format plot\n",
    "plt.title(\"Total Donations minus Expenses by Year\")\n",
    "plt.xlabel(\"Year\")\n",
    "plt.ylabel(\"Total Donations minus Expenses ($)\")\n",
    "plt.show()"
   ]
  },
  {
   "cell_type": "markdown",
   "metadata": {},
   "source": [
    "## Categories\n",
    "\n",
    "- [Back to Table of Contents](#table-of-contents)"
   ]
  },
  {
   "cell_type": "code",
   "execution_count": 25,
   "metadata": {},
   "outputs": [
    {
     "data": {
      "text/plain": [
       "<Figure size 1000x600 with 0 Axes>"
      ]
     },
     "metadata": {},
     "output_type": "display_data"
    },
    {
     "data": {
      "image/png": "[encoded data removed]",
      "text/plain": [
       "<Figure size 640x480 with 1 Axes>"
      ]
     },
     "metadata": {},
     "output_type": "display_data"
    }
   ],
   "source": [
    "# plot a grouped bar chart of expenses by category, per year\n",
    "df_cat = df.groupby([\"Year\", \"Category\"])[\"Amount\"].sum().reset_index()\n",
    "df_cat = df_cat.pivot(index=\"Year\", columns=\"Category\", values=\"Amount\").reset_index()\n",
    "df_cat = df_cat.fillna(0)\n",
    "\n",
    "# plot the chart\n",
    "sns.set_theme(style=\"white\")\n",
    "plt.figure(figsize=(10, 6))\n",
    "ax = df_cat.plot(x=\"Year\", kind=\"bar\", stacked=True, color=sns.color_palette(\"muted\"))\n",
    "\n",
    "# format plot\n",
    "plt.title(\"Total Expenses by Category and Year\")\n",
    "plt.xlabel(\"Year\")\n",
    "plt.ylabel(\"Total Amount ($)\")\n",
    "plt.legend(title=\"Category\", bbox_to_anchor=(1.05, 1), loc=\"upper left\", reverse=True)\n",
    "plt.show()"
   ]
  },
  {
   "cell_type": "markdown",
   "metadata": {},
   "source": [
    "#### No Music in 2017...? Tom Brady!!!!!! 😠 **shakes fist at sky**"
   ]
  },
  {
   "cell_type": "code",
   "execution_count": 26,
   "metadata": {},
   "outputs": [
    {
     "data": {
      "text/plain": [
       "<Figure size 1000x600 with 0 Axes>"
      ]
     },
     "metadata": {},
     "output_type": "display_data"
    },
    {
     "data": {
      "image/png": "[encoded data removed]",
      "text/plain": [
       "<Figure size 640x480 with 1 Axes>"
      ]
     },
     "metadata": {},
     "output_type": "display_data"
    }
   ],
   "source": [
    "# plot of percentage of expenses by category per year\n",
    "\n",
    "# group and sort sums by Category and Year\n",
    "df_cat_year_sum = df.groupby([\"Category\", \"Year\"]).sum().reset_index()\n",
    "\n",
    "# calculate total expenses per year\n",
    "total_expenses_per_year = df.groupby(\"Year\")[\"Amount\"].sum().reset_index()\n",
    "\n",
    "# merge total expenses into df_cat_year_sum\n",
    "df_cat_year_sum = pd.merge(\n",
    "    df_cat_year_sum, total_expenses_per_year, on=\"Year\", suffixes=(\"\", \"_total\")\n",
    ")\n",
    "\n",
    "# calculate percentage for each category-year combination\n",
    "df_cat_year_sum[\"Percentage\"] = (\n",
    "    df_cat_year_sum[\"Amount\"] / df_cat_year_sum[\"Amount_total\"]\n",
    ") * 100\n",
    "\n",
    "# pivot df so each Category is a column for plotting\n",
    "df_pivot = df_cat_year_sum.pivot(\n",
    "    index=\"Year\", columns=\"Category\", values=\"Percentage\"\n",
    ").reset_index()\n",
    "df_pivot = df_pivot.fillna(0)\n",
    "\n",
    "# plot the chart\n",
    "sns.set_theme(style=\"white\")\n",
    "plt.figure(figsize=(10, 6))\n",
    "ax = df_pivot.plot(x=\"Year\", kind=\"bar\", stacked=True, color=sns.color_palette(\"muted\"))\n",
    "\n",
    "# format plot\n",
    "plt.title(\"Percentage of Expenses by Category and Year\")\n",
    "plt.xlabel(\"Year\")\n",
    "plt.ylabel(\"Percentage of Total Expenses\")\n",
    "plt.legend(title=\"Category\", bbox_to_anchor=(1.05, 1), loc=\"upper left\", reverse=True)\n",
    "plt.show()"
   ]
  },
  {
   "cell_type": "code",
   "execution_count": 27,
   "metadata": {},
   "outputs": [
    {
     "data": {
      "application/vnd.plotly.v1+json": {
       "config": {
        "plotlyServerURL": "https://plot.ly"
       },
       "data": [
        {
         "alignmentgroup": "True",
         "customdata": [
          [
           "Bar"
          ],
          [
           "Bar"
          ],
          [
           "Bar"
          ],
          [
           "Bar"
          ],
          [
           "Bar"
          ],
          [
           "Bar"
          ]
         ],
         "hovertemplate": "Category: %{customdata[0]}<br>Percentage: %{y:.2f}%",
         "legendgroup": "Bar",
         "marker": {
          "color": "#636efa",
          "pattern": {
           "shape": ""
          }
         },
         "name": "Bar",
         "offsetgroup": "Bar",
         "orientation": "v",
         "showlegend": true,
         "textposition": "auto",
         "type": "bar",
         "x": [
          2017,
          2018,
          2019,
          2021,
          2022,
          2023
         ],
         "xaxis": "x",
         "y": [
          57.61414621272103,
          33.31109172098753,
          50.36784348289727,
          41.665486409773685,
          31.332857961774536,
          30.201007457003737
         ],
         "yaxis": "y"
        },
        {
         "alignmentgroup": "True",
         "customdata": [
          [
           "Cleaning"
          ],
          [
           "Cleaning"
          ],
          [
           "Cleaning"
          ],
          [
           "Cleaning"
          ],
          [
           "Cleaning"
          ],
          [
           "Cleaning"
          ]
         ],
         "hovertemplate": "Category: %{customdata[0]}<br>Percentage: %{y:.2f}%",
         "legendgroup": "Cleaning",
         "marker": {
          "color": "#EF553B",
          "pattern": {
           "shape": ""
          }
         },
         "name": "Cleaning",
         "offsetgroup": "Cleaning",
         "orientation": "v",
         "showlegend": true,
         "textposition": "auto",
         "type": "bar",
         "x": [
          2017,
          2018,
          2019,
          2021,
          2022,
          2023
         ],
         "xaxis": "x",
         "y": [
          8.709422011084719,
          5.132679772109017,
          3.264400084874403,
          3.4544104185018223,
          6.970554926387316,
          9.821211254254079
         ],
         "yaxis": "y"
        },
        {
         "alignmentgroup": "True",
         "customdata": [
          [
           "Cups"
          ],
          [
           "Cups"
          ],
          [
           "Cups"
          ],
          [
           "Cups"
          ],
          [
           "Cups"
          ],
          [
           "Cups"
          ]
         ],
         "hovertemplate": "Category: %{customdata[0]}<br>Percentage: %{y:.2f}%",
         "legendgroup": "Cups",
         "marker": {
          "color": "#00cc96",
          "pattern": {
           "shape": ""
          }
         },
         "name": "Cups",
         "offsetgroup": "Cups",
         "orientation": "v",
         "showlegend": true,
         "textposition": "auto",
         "type": "bar",
         "x": [
          2017,
          2018,
          2019,
          2021,
          2022,
          2023
         ],
         "xaxis": "x",
         "y": [
          7.91765637371338,
          7.215521223630858,
          6.382555045946432,
          7.396583588096102,
          2.8889308334381947,
          10.074000691754879
         ],
         "yaxis": "y"
        },
        {
         "alignmentgroup": "True",
         "customdata": [
          [
           "Decoration"
          ],
          [
           "Decoration"
          ],
          [
           "Decoration"
          ],
          [
           "Decoration"
          ]
         ],
         "hovertemplate": "Category: %{customdata[0]}<br>Percentage: %{y:.2f}%",
         "legendgroup": "Decoration",
         "marker": {
          "color": "#ab63fa",
          "pattern": {
           "shape": ""
          }
         },
         "name": "Decoration",
         "offsetgroup": "Decoration",
         "orientation": "v",
         "showlegend": true,
         "textposition": "auto",
         "type": "bar",
         "x": [
          2018,
          2019,
          2022,
          2023
         ],
         "xaxis": "x",
         "y": [
          5.132679772109017,
          1.9586400509246413,
          4.399983222180278,
          2.8182606207859533
         ],
         "yaxis": "y"
        },
        {
         "alignmentgroup": "True",
         "customdata": [
          [
           "Food"
          ],
          [
           "Food"
          ],
          [
           "Food"
          ],
          [
           "Food"
          ],
          [
           "Food"
          ],
          [
           "Food"
          ]
         ],
         "hovertemplate": "Category: %{customdata[0]}<br>Percentage: %{y:.2f}%",
         "legendgroup": "Food",
         "marker": {
          "color": "#FFA15A",
          "pattern": {
           "shape": ""
          }
         },
         "name": "Food",
         "offsetgroup": "Food",
         "orientation": "v",
         "showlegend": true,
         "textposition": "auto",
         "type": "bar",
         "x": [
          2017,
          2018,
          2019,
          2021,
          2022,
          2023
         ],
         "xaxis": "x",
         "y": [
          13.090525204539457,
          7.4423856695580755,
          6.456548114536918,
          11.171102705379091,
          11.697216280077738,
          7.68452846087386
         ],
         "yaxis": "y"
        },
        {
         "alignmentgroup": "True",
         "customdata": [
          [
           "Logo"
          ],
          [
           "Logo"
          ],
          [
           "Logo"
          ],
          [
           "Logo"
          ]
         ],
         "hovertemplate": "Category: %{customdata[0]}<br>Percentage: %{y:.2f}%",
         "legendgroup": "Logo",
         "marker": {
          "color": "#19d3f3",
          "pattern": {
           "shape": ""
          }
         },
         "name": "Logo",
         "offsetgroup": "Logo",
         "orientation": "v",
         "showlegend": true,
         "textposition": "auto",
         "type": "bar",
         "x": [
          2019,
          2021,
          2022,
          2023
         ],
         "xaxis": "x",
         "y": [
          1.468980038193481,
          2.583898993039363,
          4.194454930581771,
          4.270091849675687
         ],
         "yaxis": "y"
        },
        {
         "alignmentgroup": "True",
         "customdata": [
          [
           "Merch"
          ],
          [
           "Merch"
          ],
          [
           "Merch"
          ],
          [
           "Merch"
          ],
          [
           "Merch"
          ],
          [
           "Merch"
          ]
         ],
         "hovertemplate": "Category: %{customdata[0]}<br>Percentage: %{y:.2f}%",
         "legendgroup": "Merch",
         "marker": {
          "color": "#FF6692",
          "pattern": {
           "shape": ""
          }
         },
         "name": "Merch",
         "offsetgroup": "Merch",
         "orientation": "v",
         "showlegend": true,
         "textposition": "auto",
         "type": "bar",
         "x": [
          2017,
          2018,
          2019,
          2021,
          2022,
          2023
         ],
         "xaxis": "x",
         "y": [
          12.668250197941408,
          16.10224298106041,
          5.113356292947263,
          2.638824118693542,
          15.446499727360429,
          12.712917454854455
         ],
         "yaxis": "y"
        },
        {
         "alignmentgroup": "True",
         "customdata": [
          [
           "Music"
          ],
          [
           "Music"
          ],
          [
           "Music"
          ],
          [
           "Music"
          ],
          [
           "Music"
          ]
         ],
         "hovertemplate": "Category: %{customdata[0]}<br>Percentage: %{y:.2f}%",
         "legendgroup": "Music",
         "marker": {
          "color": "#B6E880",
          "pattern": {
           "shape": ""
          }
         },
         "name": "Music",
         "offsetgroup": "Music",
         "orientation": "v",
         "showlegend": true,
         "textposition": "auto",
         "type": "bar",
         "x": [
          2018,
          2019,
          2021,
          2022,
          2023
         ],
         "xaxis": "x",
         "y": [
          25.66339886054509,
          19.586400509246413,
          31.0896937665164,
          19.923660920263412,
          19.215413323540588
         ],
         "yaxis": "y"
        },
        {
         "alignmentgroup": "True",
         "customdata": [
          [
           "Porta Potty"
          ],
          [
           "Porta Potty"
          ],
          [
           "Porta Potty"
          ]
         ],
         "hovertemplate": "Category: %{customdata[0]}<br>Percentage: %{y:.2f}%",
         "legendgroup": "Porta Potty",
         "marker": {
          "color": "#FF97FF",
          "pattern": {
           "shape": ""
          }
         },
         "name": "Porta Potty",
         "offsetgroup": "Porta Potty",
         "orientation": "v",
         "showlegend": true,
         "textposition": "auto",
         "type": "bar",
         "x": [
          2019,
          2022,
          2023
         ],
         "xaxis": "x",
         "y": [
          5.4012763804331865,
          3.1458411979363285,
          3.2025688872567653
         ],
         "yaxis": "y"
        }
       ],
       "layout": {
        "barmode": "relative",
        "legend": {
         "title": {
          "text": "Category"
         },
         "tracegroupgap": 0,
         "traceorder": "reversed"
        },
        "template": {
         "data": {
          "bar": [
           {
            "error_x": {
             "color": "#2a3f5f"
            },
            "error_y": {
             "color": "#2a3f5f"
            },
            "marker": {
             "line": {
              "color": "#E5ECF6",
              "width": 0.5
             },
             "pattern": {
              "fillmode": "overlay",
              "size": 10,
              "solidity": 0.2
             }
            },
            "type": "bar"
           }
          ],
          "barpolar": [
           {
            "marker": {
             "line": {
              "color": "#E5ECF6",
              "width": 0.5
             },
             "pattern": {
              "fillmode": "overlay",
              "size": 10,
              "solidity": 0.2
             }
            },
            "type": "barpolar"
           }
          ],
          "carpet": [
           {
            "aaxis": {
             "endlinecolor": "#2a3f5f",
             "gridcolor": "white",
             "linecolor": "white",
             "minorgridcolor": "white",
             "startlinecolor": "#2a3f5f"
            },
            "baxis": {
             "endlinecolor": "#2a3f5f",
             "gridcolor": "white",
             "linecolor": "white",
             "minorgridcolor": "white",
             "startlinecolor": "#2a3f5f"
            },
            "type": "carpet"
           }
          ],
          "choropleth": [
           {
            "colorbar": {
             "outlinewidth": 0,
             "ticks": ""
            },
            "type": "choropleth"
           }
          ],
          "contour": [
           {
            "colorbar": {
             "outlinewidth": 0,
             "ticks": ""
            },
            "colorscale": [
             [
              0,
              "#0d0887"
             ],
             [
              0.1111111111111111,
              "#46039f"
             ],
             [
              0.2222222222222222,
              "#7201a8"
             ],
             [
              0.3333333333333333,
              "#9c179e"
             ],
             [
              0.4444444444444444,
              "#bd3786"
             ],
             [
              0.5555555555555556,
              "#d8576b"
             ],
             [
              0.6666666666666666,
              "#ed7953"
             ],
             [
              0.7777777777777778,
              "#fb9f3a"
             ],
             [
              0.8888888888888888,
              "#fdca26"
             ],
             [
              1,
              "#f0f921"
             ]
            ],
            "type": "contour"
           }
          ],
          "contourcarpet": [
           {
            "colorbar": {
             "outlinewidth": 0,
             "ticks": ""
            },
            "type": "contourcarpet"
           }
          ],
          "heatmap": [
           {
            "colorbar": {
             "outlinewidth": 0,
             "ticks": ""
            },
            "colorscale": [
             [
              0,
              "#0d0887"
             ],
             [
              0.1111111111111111,
              "#46039f"
             ],
             [
              0.2222222222222222,
              "#7201a8"
             ],
             [
              0.3333333333333333,
              "#9c179e"
             ],
             [
              0.4444444444444444,
              "#bd3786"
             ],
             [
              0.5555555555555556,
              "#d8576b"
             ],
             [
              0.6666666666666666,
              "#ed7953"
             ],
             [
              0.7777777777777778,
              "#fb9f3a"
             ],
             [
              0.8888888888888888,
              "#fdca26"
             ],
             [
              1,
              "#f0f921"
             ]
            ],
            "type": "heatmap"
           }
          ],
          "heatmapgl": [
           {
            "colorbar": {
             "outlinewidth": 0,
             "ticks": ""
            },
            "colorscale": [
             [
              0,
              "#0d0887"
             ],
             [
              0.1111111111111111,
              "#46039f"
             ],
             [
              0.2222222222222222,
              "#7201a8"
             ],
             [
              0.3333333333333333,
              "#9c179e"
             ],
             [
              0.4444444444444444,
              "#bd3786"
             ],
             [
              0.5555555555555556,
              "#d8576b"
             ],
             [
              0.6666666666666666,
              "#ed7953"
             ],
             [
              0.7777777777777778,
              "#fb9f3a"
             ],
             [
              0.8888888888888888,
              "#fdca26"
             ],
             [
              1,
              "#f0f921"
             ]
            ],
            "type": "heatmapgl"
           }
          ],
          "histogram": [
           {
            "marker": {
             "pattern": {
              "fillmode": "overlay",
              "size": 10,
              "solidity": 0.2
             }
            },
            "type": "histogram"
           }
          ],
          "histogram2d": [
           {
            "colorbar": {
             "outlinewidth": 0,
             "ticks": ""
            },
            "colorscale": [
             [
              0,
              "#0d0887"
             ],
             [
              0.1111111111111111,
              "#46039f"
             ],
             [
              0.2222222222222222,
              "#7201a8"
             ],
             [
              0.3333333333333333,
              "#9c179e"
             ],
             [
              0.4444444444444444,
              "#bd3786"
             ],
             [
              0.5555555555555556,
              "#d8576b"
             ],
             [
              0.6666666666666666,
              "#ed7953"
             ],
             [
              0.7777777777777778,
              "#fb9f3a"
             ],
             [
              0.8888888888888888,
              "#fdca26"
             ],
             [
              1,
              "#f0f921"
             ]
            ],
            "type": "histogram2d"
           }
          ],
          "histogram2dcontour": [
           {
            "colorbar": {
             "outlinewidth": 0,
             "ticks": ""
            },
            "colorscale": [
             [
              0,
              "#0d0887"
             ],
             [
              0.1111111111111111,
              "#46039f"
             ],
             [
              0.2222222222222222,
              "#7201a8"
             ],
             [
              0.3333333333333333,
              "#9c179e"
             ],
             [
              0.4444444444444444,
              "#bd3786"
             ],
             [
              0.5555555555555556,
              "#d8576b"
             ],
             [
              0.6666666666666666,
              "#ed7953"
             ],
             [
              0.7777777777777778,
              "#fb9f3a"
             ],
             [
              0.8888888888888888,
              "#fdca26"
             ],
             [
              1,
              "#f0f921"
             ]
            ],
            "type": "histogram2dcontour"
           }
          ],
          "mesh3d": [
           {
            "colorbar": {
             "outlinewidth": 0,
             "ticks": ""
            },
            "type": "mesh3d"
           }
          ],
          "parcoords": [
           {
            "line": {
             "colorbar": {
              "outlinewidth": 0,
              "ticks": ""
             }
            },
            "type": "parcoords"
           }
          ],
          "pie": [
           {
            "automargin": true,
            "type": "pie"
           }
          ],
          "scatter": [
           {
            "fillpattern": {
             "fillmode": "overlay",
             "size": 10,
             "solidity": 0.2
            },
            "type": "scatter"
           }
          ],
          "scatter3d": [
           {
            "line": {
             "colorbar": {
              "outlinewidth": 0,
              "ticks": ""
             }
            },
            "marker": {
             "colorbar": {
              "outlinewidth": 0,
              "ticks": ""
             }
            },
            "type": "scatter3d"
           }
          ],
          "scattercarpet": [
           {
            "marker": {
             "colorbar": {
              "outlinewidth": 0,
              "ticks": ""
             }
            },
            "type": "scattercarpet"
           }
          ],
          "scattergeo": [
           {
            "marker": {
             "colorbar": {
              "outlinewidth": 0,
              "ticks": ""
             }
            },
            "type": "scattergeo"
           }
          ],
          "scattergl": [
           {
            "marker": {
             "colorbar": {
              "outlinewidth": 0,
              "ticks": ""
             }
            },
            "type": "scattergl"
           }
          ],
          "scattermapbox": [
           {
            "marker": {
             "colorbar": {
              "outlinewidth": 0,
              "ticks": ""
             }
            },
            "type": "scattermapbox"
           }
          ],
          "scatterpolar": [
           {
            "marker": {
             "colorbar": {
              "outlinewidth": 0,
              "ticks": ""
             }
            },
            "type": "scatterpolar"
           }
          ],
          "scatterpolargl": [
           {
            "marker": {
             "colorbar": {
              "outlinewidth": 0,
              "ticks": ""
             }
            },
            "type": "scatterpolargl"
           }
          ],
          "scatterternary": [
           {
            "marker": {
             "colorbar": {
              "outlinewidth": 0,
              "ticks": ""
             }
            },
            "type": "scatterternary"
           }
          ],
          "surface": [
           {
            "colorbar": {
             "outlinewidth": 0,
             "ticks": ""
            },
            "colorscale": [
             [
              0,
              "#0d0887"
             ],
             [
              0.1111111111111111,
              "#46039f"
             ],
             [
              0.2222222222222222,
              "#7201a8"
             ],
             [
              0.3333333333333333,
              "#9c179e"
             ],
             [
              0.4444444444444444,
              "#bd3786"
             ],
             [
              0.5555555555555556,
              "#d8576b"
             ],
             [
              0.6666666666666666,
              "#ed7953"
             ],
             [
              0.7777777777777778,
              "#fb9f3a"
             ],
             [
              0.8888888888888888,
              "#fdca26"
             ],
             [
              1,
              "#f0f921"
             ]
            ],
            "type": "surface"
           }
          ],
          "table": [
           {
            "cells": {
             "fill": {
              "color": "#EBF0F8"
             },
             "line": {
              "color": "white"
             }
            },
            "header": {
             "fill": {
              "color": "#C8D4E3"
             },
             "line": {
              "color": "white"
             }
            },
            "type": "table"
           }
          ]
         },
         "layout": {
          "annotationdefaults": {
           "arrowcolor": "#2a3f5f",
           "arrowhead": 0,
           "arrowwidth": 1
          },
          "autotypenumbers": "strict",
          "coloraxis": {
           "colorbar": {
            "outlinewidth": 0,
            "ticks": ""
           }
          },
          "colorscale": {
           "diverging": [
            [
             0,
             "#8e0152"
            ],
            [
             0.1,
             "#c51b7d"
            ],
            [
             0.2,
             "#de77ae"
            ],
            [
             0.3,
             "#f1b6da"
            ],
            [
             0.4,
             "#fde0ef"
            ],
            [
             0.5,
             "#f7f7f7"
            ],
            [
             0.6,
             "#e6f5d0"
            ],
            [
             0.7,
             "#b8e186"
            ],
            [
             0.8,
             "#7fbc41"
            ],
            [
             0.9,
             "#4d9221"
            ],
            [
             1,
             "#276419"
            ]
           ],
           "sequential": [
            [
             0,
             "#0d0887"
            ],
            [
             0.1111111111111111,
             "#46039f"
            ],
            [
             0.2222222222222222,
             "#7201a8"
            ],
            [
             0.3333333333333333,
             "#9c179e"
            ],
            [
             0.4444444444444444,
             "#bd3786"
            ],
            [
             0.5555555555555556,
             "#d8576b"
            ],
            [
             0.6666666666666666,
             "#ed7953"
            ],
            [
             0.7777777777777778,
             "#fb9f3a"
            ],
            [
             0.8888888888888888,
             "#fdca26"
            ],
            [
             1,
             "#f0f921"
            ]
           ],
           "sequentialminus": [
            [
             0,
             "#0d0887"
            ],
            [
             0.1111111111111111,
             "#46039f"
            ],
            [
             0.2222222222222222,
             "#7201a8"
            ],
            [
             0.3333333333333333,
             "#9c179e"
            ],
            [
             0.4444444444444444,
             "#bd3786"
            ],
            [
             0.5555555555555556,
             "#d8576b"
            ],
            [
             0.6666666666666666,
             "#ed7953"
            ],
            [
             0.7777777777777778,
             "#fb9f3a"
            ],
            [
             0.8888888888888888,
             "#fdca26"
            ],
            [
             1,
             "#f0f921"
            ]
           ]
          },
          "colorway": [
           "#636efa",
           "#EF553B",
           "#00cc96",
           "#ab63fa",
           "#FFA15A",
           "#19d3f3",
           "#FF6692",
           "#B6E880",
           "#FF97FF",
           "#FECB52"
          ],
          "font": {
           "color": "#2a3f5f"
          },
          "geo": {
           "bgcolor": "white",
           "lakecolor": "white",
           "landcolor": "#E5ECF6",
           "showlakes": true,
           "showland": true,
           "subunitcolor": "white"
          },
          "hoverlabel": {
           "align": "left"
          },
          "hovermode": "closest",
          "mapbox": {
           "style": "light"
          },
          "paper_bgcolor": "white",
          "plot_bgcolor": "#E5ECF6",
          "polar": {
           "angularaxis": {
            "gridcolor": "white",
            "linecolor": "white",
            "ticks": ""
           },
           "bgcolor": "#E5ECF6",
           "radialaxis": {
            "gridcolor": "white",
            "linecolor": "white",
            "ticks": ""
           }
          },
          "scene": {
           "xaxis": {
            "backgroundcolor": "#E5ECF6",
            "gridcolor": "white",
            "gridwidth": 2,
            "linecolor": "white",
            "showbackground": true,
            "ticks": "",
            "zerolinecolor": "white"
           },
           "yaxis": {
            "backgroundcolor": "#E5ECF6",
            "gridcolor": "white",
            "gridwidth": 2,
            "linecolor": "white",
            "showbackground": true,
            "ticks": "",
            "zerolinecolor": "white"
           },
           "zaxis": {
            "backgroundcolor": "#E5ECF6",
            "gridcolor": "white",
            "gridwidth": 2,
            "linecolor": "white",
            "showbackground": true,
            "ticks": "",
            "zerolinecolor": "white"
           }
          },
          "shapedefaults": {
           "line": {
            "color": "#2a3f5f"
           }
          },
          "ternary": {
           "aaxis": {
            "gridcolor": "white",
            "linecolor": "white",
            "ticks": ""
           },
           "baxis": {
            "gridcolor": "white",
            "linecolor": "white",
            "ticks": ""
           },
           "bgcolor": "#E5ECF6",
           "caxis": {
            "gridcolor": "white",
            "linecolor": "white",
            "ticks": ""
           }
          },
          "title": {
           "x": 0.05
          },
          "xaxis": {
           "automargin": true,
           "gridcolor": "white",
           "linecolor": "white",
           "ticks": "",
           "title": {
            "standoff": 15
           },
           "zerolinecolor": "white",
           "zerolinewidth": 2
          },
          "yaxis": {
           "automargin": true,
           "gridcolor": "white",
           "linecolor": "white",
           "ticks": "",
           "title": {
            "standoff": 15
           },
           "zerolinecolor": "white",
           "zerolinewidth": 2
          }
         }
        },
        "title": {
         "text": "Percentage of Expenses by Category and Year"
        },
        "xaxis": {
         "anchor": "y",
         "domain": [
          0,
          1
         ],
         "title": {
          "text": "Year"
         }
        },
        "yaxis": {
         "anchor": "x",
         "domain": [
          0,
          1
         ],
         "title": {
          "text": "Percentage of Total Expenses"
         }
        }
       }
      }
     },
     "metadata": {},
     "output_type": "display_data"
    }
   ],
   "source": [
    "# group and sort sums by Category and Year\n",
    "df_cat_year_sum = df.groupby([\"Category\", \"Year\"]).sum().reset_index()\n",
    "\n",
    "# calculate total expenses per year\n",
    "total_expenses_per_year = df.groupby(\"Year\")[\"Amount\"].sum().reset_index()\n",
    "\n",
    "# merge total expenses into df_cat_year_sum\n",
    "df_cat_year_sum = pd.merge(\n",
    "    df_cat_year_sum, total_expenses_per_year, on=\"Year\", suffixes=(\"\", \"_total\")\n",
    ")\n",
    "\n",
    "# calculate percentage for each category-year combination\n",
    "df_cat_year_sum[\"Percentage\"] = (\n",
    "    df_cat_year_sum[\"Amount\"] / df_cat_year_sum[\"Amount_total\"]\n",
    ") * 100\n",
    "\n",
    "# plot the chart\n",
    "fig = px.bar(\n",
    "    df_cat_year_sum,\n",
    "    x=\"Year\",\n",
    "    y=\"Percentage\",\n",
    "    color=\"Category\",\n",
    "    labels={\"Percentage\": \"Percentage of Total Expenses\", \"Year\": \"Year\"},\n",
    "    title=\"Percentage of Expenses by Category and Year\",\n",
    "    hover_data=[\"Category\", \"Percentage\"],\n",
    "    category_orders={\"Category\": sorted(df[\"Category\"].unique())},\n",
    "    custom_data=[\"Category\"],\n",
    ")\n",
    "\n",
    "# set the legend order\n",
    "fig.update_layout(legend=dict(title=\"Category\", traceorder=\"reversed\"))\n",
    "\n",
    "# format percentage and display the category in the hover\n",
    "fig.update_traces(hovertemplate=\"Category: %{customdata[0]}<br>Percentage: %{y:.2f}%\")\n",
    "\n",
    "fig.show()"
   ]
  },
  {
   "cell_type": "markdown",
   "metadata": {},
   "source": [
    "2017 and 2021 are outliers. Why was 2019 so different from 2018, 2022, and 2023? My guess is, it was the best attended of them all, so we had to purchase extra alcohol the day of the party (at usurious rates)."
   ]
  },
  {
   "cell_type": "code",
   "execution_count": 28,
   "metadata": {},
   "outputs": [
    {
     "data": {
      "image/png": "[encoded data removed]",
      "text/plain": [
       "<Figure size 1000x600 with 1 Axes>"
      ]
     },
     "metadata": {},
     "output_type": "display_data"
    }
   ],
   "source": [
    "# plot a bar chart of total expenses by category\n",
    "\n",
    "# group and sort Amount by Category\n",
    "df_cat_sum = df.groupby(\"Category\")[\"Amount\"].sum().reset_index()\n",
    "df_cat_sum = df_cat_sum.sort_values(\"Amount\", ascending=False)\n",
    "\n",
    "# plot the chart\n",
    "sns.set_theme(style=\"white\")\n",
    "plt.figure(figsize=(10, 6))\n",
    "ax = sns.barplot(x=\"Amount\", y=\"Category\", data=df_cat_sum, palette=\"muted\")\n",
    "\n",
    "# add labels\n",
    "for container in ax.containers:\n",
    "    ax.bar_label(container, fmt=\"$%.2f\", color=\"red\")\n",
    "\n",
    "# format plot\n",
    "plt.title(\"Total Expenses by Category\")\n",
    "plt.xlabel(\"Total Amount ($)\")\n",
    "plt.ylabel(\"Category\")\n",
    "plt.show()"
   ]
  },
  {
   "cell_type": "markdown",
   "metadata": {},
   "source": [
    "Bar and Music are our greatest contributors to cost. Also, kinda fixed costs. We should investigate ways to cheapen these expenses, but I suspect we can only shave off a little bit."
   ]
  },
  {
   "cell_type": "code",
   "execution_count": 29,
   "metadata": {},
   "outputs": [
    {
     "data": {
      "image/png": "[encoded data removed]",
      "text/plain": [
       "<Figure size 1000x600 with 1 Axes>"
      ]
     },
     "metadata": {},
     "output_type": "display_data"
    }
   ],
   "source": [
    "# bar chart of total expenses by category as a percentage of total expenses\n",
    "\n",
    "# group and sort Amount by Category\n",
    "df_cat_sum = df.groupby(\"Category\")[\"Amount\"].sum().reset_index()\n",
    "df_cat_sum = df_cat_sum.sort_values(\"Amount\", ascending=False)\n",
    "\n",
    "# calculate percentage of total expenses for each category\n",
    "df_cat_sum[\"Percentage\"] = (df_cat_sum[\"Amount\"] / df_cat_sum[\"Amount\"].sum()) * 100\n",
    "\n",
    "# plot the chart\n",
    "sns.set_theme(style=\"white\")\n",
    "plt.figure(figsize=(10, 6))\n",
    "ax = sns.barplot(x=\"Percentage\", y=\"Category\", data=df_cat_sum, palette=\"muted\")\n",
    "\n",
    "\n",
    "# label foramtter\n",
    "def format_label(value):\n",
    "    return f\"{value:.2f}%\"\n",
    "\n",
    "\n",
    "# add labels\n",
    "for container in ax.containers:\n",
    "    ax.bar_label(container, fmt=format_label, color=\"red\")\n",
    "\n",
    "# format plot\n",
    "plt.title(\"Percentage of Total Expenses by Category\")\n",
    "plt.xlabel(\"Percentage of Total Expenses\")\n",
    "plt.ylabel(\"Category\")\n",
    "plt.show()"
   ]
  },
  {
   "cell_type": "code",
   "execution_count": 30,
   "metadata": {},
   "outputs": [
    {
     "data": {
      "image/png": "[encoded data removed]",
      "text/plain": [
       "<Figure size 1000x600 with 1 Axes>"
      ]
     },
     "metadata": {},
     "output_type": "display_data"
    }
   ],
   "source": [
    "# pie chart of total expenses by category as a percentage of total expenses\n",
    "\n",
    "# group and sort Amount by Category\n",
    "df_cat_sum = df.groupby(\"Category\")[\"Amount\"].sum().reset_index()\n",
    "df_cat_sum = df_cat_sum.sort_values(\"Amount\", ascending=False)\n",
    "\n",
    "# calculate percentage of total expenses for each category\n",
    "df_cat_sum[\"Percentage\"] = (df_cat_sum[\"Amount\"] / df_cat_sum[\"Amount\"].sum()) * 100\n",
    "\n",
    "# replace names of those with less than 5% of the total with 'Other'\n",
    "df_cat_sum.loc[df_cat_sum.Percentage < 5, \"Category\"] = \"Other\"\n",
    "\n",
    "# group by name again to combine all 'Other' rows\n",
    "df_cat_sum = df_cat_sum.groupby(\"Category\").sum().reset_index()\n",
    "\n",
    "# sort df\n",
    "df_cat_sum = df_cat_sum.sort_values(\"Percentage\", ascending=False)\n",
    "\n",
    "# plot and format pie chart\n",
    "sns.set_theme(style=\"white\", context=\"talk\")\n",
    "plt.figure(figsize=(10, 6))\n",
    "plt.pie(\n",
    "    df_cat_sum.Percentage,\n",
    "    labels=df_cat_sum.Category,\n",
    "    autopct=\"%1.1f%%\",\n",
    "    startangle=140,\n",
    "    colors=sns.color_palette(\"muted\"),\n",
    "    wedgeprops=dict(width=0.6, edgecolor=\"w\"),\n",
    ")\n",
    "plt.title(\"Percentage of Total Expenses by Category\")\n",
    "plt.show()"
   ]
  },
  {
   "cell_type": "code",
   "execution_count": 31,
   "metadata": {},
   "outputs": [],
   "source": [
    "# # treemap of total expenses by category\n",
    "\n",
    "# # group and sort sums by category\n",
    "# df_cat_sum = df.groupby(\"Category\")[\"Amount\"].sum().reset_index()\n",
    "# df_cat_sum = df_cat_sum.sort_values(\"Amount\", ascending=False)\n",
    "\n",
    "# # plot chart\n",
    "# fig = px.treemap(df_cat_sum, path=['Category'], values='Amount',\n",
    "#                  title='Total Expenses by Category')\n",
    "\n",
    "# # update layout for better display\n",
    "# fig.update_layout(\n",
    "#     height=600,\n",
    "#     width=800,\n",
    "#     uniformtext=dict(minsize=12, mode='hide'),\n",
    "# )\n",
    "\n",
    "# fig.show()"
   ]
  },
  {
   "cell_type": "code",
   "execution_count": 32,
   "metadata": {},
   "outputs": [],
   "source": [
    "# # alternate treemap with percentages\n",
    "\n",
    "# # group and sort sums by category\n",
    "# df_cat_sum = df.groupby(\"Category\")[\"Amount\"].sum().reset_index()\n",
    "# df_cat_sum = df_cat_sum.sort_values(\"Amount\", ascending=False)\n",
    "\n",
    "# # calculate percentage\n",
    "# total = df_cat_sum[\"Amount\"].sum()\n",
    "# df_cat_sum[\"Percentage\"] = df_cat_sum[\"Amount\"].apply(lambda x: x / total * 100)\n",
    "\n",
    "# # labels with percentage\n",
    "# df_cat_sum[\"Label\"] = df_cat_sum[\"Category\"] + \" (\" + df_cat_sum[\"Percentage\"].round(2).astype(str) + \"%)\"\n",
    "\n",
    "# # plot chart\n",
    "# fig = px.treemap(df_cat_sum, path=['Label'], values='Amount',\n",
    "#                  title='Total Expenses by Category')\n",
    "\n",
    "# # update layout for better display\n",
    "# fig.update_layout(\n",
    "#     height=600,\n",
    "#     width=800,\n",
    "#     uniformtext=dict(minsize=12, mode='hide'),\n",
    "# )\n",
    "\n",
    "# fig.show()"
   ]
  },
  {
   "cell_type": "code",
   "execution_count": 33,
   "metadata": {},
   "outputs": [],
   "source": [
    "# # alternate treemap using squarify\n",
    "\n",
    "# # group and sort sums by category\n",
    "# df_cat_sum = df.groupby(\"Category\")[\"Amount\"].sum().reset_index()\n",
    "# df_cat_sum = df_cat_sum.sort_values(\"Amount\", ascending=False)\n",
    "\n",
    "# # calculate relative sizes of rectangles\n",
    "# sizes = df_cat_sum[\"Amount\"] / df_cat_sum[\"Amount\"].sum()\n",
    "\n",
    "# # plot chart\n",
    "# sns.set_theme(style=\"white\")\n",
    "# plt.figure(figsize=(10, 6))\n",
    "# squarify.plot(sizes=sizes, label=df_cat_sum[\"Category\"], alpha=0.6)\n",
    "\n",
    "# # format plot\n",
    "# plt.title(\"Total Expenses by Category\")\n",
    "# plt.axis('off')  # Turn off the axis\n",
    "# plt.show()"
   ]
  },
  {
   "cell_type": "code",
   "execution_count": 34,
   "metadata": {},
   "outputs": [],
   "source": [
    "# treemap of expenses by category and year\n",
    "\n",
    "# group and sort sums by Category and Year\n",
    "df_cat_year_sum = df.groupby([\"Category\", \"Year\"]).sum().reset_index()\n",
    "\n",
    "# calculate percentage of total expenses for each category-year combination\n",
    "df_cat_year_sum[\"Percentage\"] = df_cat_year_sum.groupby(\"Year\")[\"Amount\"].transform(\n",
    "    lambda x: x / x.sum() * 100\n",
    ")\n",
    "\n",
    "# plot the chart\n",
    "fig = px.treemap(\n",
    "    df_cat_year_sum,\n",
    "    path=[\"Year\", \"Category\"],\n",
    "    values=\"Percentage\",\n",
    "    color=\"Year\",\n",
    "    color_continuous_scale=\"Viridis\",\n",
    "    title=\"Treemap Chart of Expenses by Category and Year\",\n",
    "    custom_data=[\"Percentage\"],\n",
    ")\n",
    "\n",
    "# update layout for better display\n",
    "fig.update_layout(\n",
    "    height=600,\n",
    "    width=800,\n",
    "    uniformtext=dict(minsize=12, mode=\"hide\"),\n",
    ")\n",
    "\n",
    "# format percentage\n",
    "fig.update_traces(\n",
    "    hovertemplate=\"Year: %{parent}<br>Category: %{label}<br>Percentage: %{customdata[0]:.2f}%\"\n",
    ")\n",
    "\n",
    "fig.show()"
   ]
  },
  {
   "cell_type": "code",
   "execution_count": null,
   "metadata": {},
   "outputs": [],
   "source": [
    "# plot every year's expenses by category as a donut chart\n",
    "\n",
    "# group and sort sums by year\n",
    "df_cat = df.groupby([\"Year\", \"Category\"])[\"Amount\"].sum().reset_index()\n",
    "print(\"Click 'View as a scrollable element' to see the before and after of the pivot\\n\")\n",
    "print(f\"Before: \\n{df_cat}\\n\")\n",
    "# pivot df so each Category is a column - before & after below (click view as a scrollable element)\n",
    "df_cat = df_cat.pivot(index=\"Year\", columns=\"Category\", values=\"Amount\").reset_index()\n",
    "df_cat = df_cat.fillna(0)\n",
    "print(f\"After: \\n{df_cat}\")\n",
    "\n",
    "# color dict, to ensure colors remain the same\n",
    "categories = df_cat.columns[1:]\n",
    "palette = sns.color_palette(\"muted\", n_colors=len(categories))\n",
    "color_dict = dict(zip(categories, palette))\n",
    "\n",
    "# format overall figure\n",
    "sns.set_theme(style=\"white\", context=\"talk\")\n",
    "plt.figure(figsize=(10, 6))\n",
    "\n",
    "for i, year in enumerate(df_cat.Year):\n",
    "    # create a new subplot for each year\n",
    "    plt.subplot(2, 3, i + 1)\n",
    "    # Get values and labels, and filter out values that are zero\n",
    "    values = df_cat.iloc[i, 1:]\n",
    "    labels = df_cat.columns[1:]\n",
    "    values, labels = values[values != 0], labels[values != 0]\n",
    "\n",
    "    # sort values and labels\n",
    "    labels = labels[values.argsort()]\n",
    "    values = np.sort(values)\n",
    "\n",
    "    # get colors\n",
    "    colors = [color_dict[label] for label in labels]\n",
    "\n",
    "    # plot the donut chart with filtered values and labels\n",
    "    plt.pie(\n",
    "        values,\n",
    "        labels=labels,\n",
    "        startangle=140,\n",
    "        colors=colors,\n",
    "        wedgeprops=dict(width=0.6, edgecolor=\"w\"),\n",
    "    )\n",
    "    plt.title(year)\n",
    "\n",
    "# format overall figure\n",
    "plt.suptitle(\"Expenses by Category and Year\")\n",
    "plt.show()"
   ]
  },
  {
   "cell_type": "code",
   "execution_count": null,
   "metadata": {},
   "outputs": [],
   "source": [
    "# plot a bar chart of every year's expenses by category\n",
    "\n",
    "# group and sort sums by year\n",
    "df_cat = df.groupby([\"Year\", \"Category\"])[\"Amount\"].sum().reset_index()\n",
    "# pivot df so each Category is a column\n",
    "df_cat = df_cat.pivot(index=\"Year\", columns=\"Category\", values=\"Amount\").reset_index()\n",
    "\n",
    "# format overall figure\n",
    "sns.set_theme(style=\"white\")\n",
    "plt.figure(figsize=(10, 8))\n",
    "plt.ylabel(\"Total Amount ($)\")\n",
    "\n",
    "for i, year in enumerate(df_cat.Year):\n",
    "    # create a new subplot for each year\n",
    "    plt.subplot(3, 2, i + 1)\n",
    "    # plot the bar chart\n",
    "    # df_cat from pie charts immediately prior is reused here\n",
    "    ax = df_cat.iloc[i, 1:].plot(kind=\"bar\", color=sns.color_palette(\"muted\"))\n",
    "\n",
    "    # add labels\n",
    "    for container in ax.containers:\n",
    "        ax.bar_label(container, fmt=\"$%.0f\", color=\"red\")\n",
    "\n",
    "    # format plot\n",
    "    plt.title(year)\n",
    "    # plt.xlabel('Category')\n",
    "    # plt.ylabel('Total Amount ($)')\n",
    "    plt.xticks(rotation=45)\n",
    "\n",
    "# adjust space between subplots\n",
    "plt.subplots_adjust(hspace=0.5)\n",
    "\n",
    "# format overall figure\n",
    "plt.suptitle(\"Total Expenses ($) by Category and Year\")\n",
    "plt.xlabel(\"Category\")\n",
    "# plt.ylabel('Total Amount ($)')\n",
    "plt.show()"
   ]
  },
  {
   "cell_type": "code",
   "execution_count": null,
   "metadata": {},
   "outputs": [],
   "source": [
    "# line chart of expenses by category over time\n",
    "\n",
    "# group and sort sums by Category and Year\n",
    "df_cat_year_sum = df.groupby([\"Category\", \"Year\"]).sum().reset_index()\n",
    "df_cat_year_sum = df_cat_year_sum.sort_values(\"Amount\", ascending=False)\n",
    "\n",
    "# plot the chart\n",
    "sns.set_theme(style=\"white\", context=\"talk\")\n",
    "plt.figure(figsize=(10, 6))\n",
    "ax = sns.lineplot(\n",
    "    x=\"Year\", y=\"Amount\", hue=\"Category\", data=df_cat_year_sum, marker=\"o\"\n",
    ")\n",
    "\n",
    "# annotate each line with the name of the category\n",
    "for line, name in zip(ax.lines, df_cat_year_sum[\"Category\"].unique()):\n",
    "    y = line.get_ydata()[-1]\n",
    "    x = line.get_xdata()[-1]\n",
    "    ax.text(\n",
    "        x + 0.1, y, name, color=line.get_color(), size=12, verticalalignment=\"center\"\n",
    "    )\n",
    "\n",
    "# format plot\n",
    "plt.title(\"Total Expenses by Category and Year\")\n",
    "plt.xlabel(\"Year\")\n",
    "plt.ylabel(\"Total Amount ($)\")\n",
    "plt.legend(title=\"Category\", bbox_to_anchor=(1.05, 1), loc=\"upper left\")\n",
    "plt.show()"
   ]
  },
  {
   "cell_type": "code",
   "execution_count": null,
   "metadata": {},
   "outputs": [],
   "source": [
    "# line chart of expenses by category over time, without Bar and Music\n",
    "\n",
    "# group and sort sums by Category and Year\n",
    "df_cat_year_sum = df[df.Category != \"Bar\"]\n",
    "df_cat_year_sum = df_cat_year_sum[df_cat_year_sum.Category != \"Music\"]\n",
    "df_cat_year_sum = df_cat_year_sum.groupby([\"Category\", \"Year\"]).sum().reset_index()\n",
    "df_cat_year_sum = df_cat_year_sum.sort_values(\"Amount\", ascending=False)\n",
    "\n",
    "# plot the chart\n",
    "sns.set_theme(style=\"white\", context=\"talk\")\n",
    "plt.figure(figsize=(10, 6))\n",
    "ax = sns.lineplot(\n",
    "    x=\"Year\", y=\"Amount\", hue=\"Category\", data=df_cat_year_sum, marker=\"o\"\n",
    ")\n",
    "\n",
    "# annotate each line with the name of the category\n",
    "for line, name in zip(ax.lines, df_cat_year_sum[\"Category\"].unique()):\n",
    "    y = line.get_ydata()[-1]\n",
    "    x = line.get_xdata()[-1]\n",
    "    ax.text(\n",
    "        x + 0.1, y, name, color=line.get_color(), size=12, verticalalignment=\"center\"\n",
    "    )\n",
    "\n",
    "# format plot\n",
    "plt.title(\"Total Expenses by Category and Year (excluding Bar and Music)\")\n",
    "plt.xlabel(\"Year\")\n",
    "plt.ylabel(\"Total Amount ($)\")\n",
    "plt.legend(title=\"Category\", bbox_to_anchor=(1.05, 1), loc=\"upper left\")\n",
    "plt.show()"
   ]
  },
  {
   "cell_type": "markdown",
   "metadata": {},
   "source": [
    "I think Food and Logo are worth investing in (and they are fulfilled by our friends). \n",
    "\n",
    "Merch escalates in cost - howsabout we just build a merch store (I suggest `Printful`, a Latvian custom-made-to=order schwag company) and let people order from there? Offload the task entirely? \n",
    "\n",
    "Cups: not sure what to do, but certainly try to order them in advance to cut down on rush shipping costs. \n",
    "\n",
    "Cleaning has escalated due to trying to have somebody clean up during the fiesta. It's really nice not having to do clean-up. This cost may be worth keeping."
   ]
  },
  {
   "cell_type": "code",
   "execution_count": null,
   "metadata": {},
   "outputs": [],
   "source": [
    "# group and sort sums by Category and Year\n",
    "df_cat_year_sum = df.groupby([\"Category\", \"Year\"]).sum().reset_index()\n",
    "\n",
    "# get unique categories\n",
    "categories = df_cat_year_sum[\"Category\"].unique()\n",
    "\n",
    "# calculate the number of subplots you need\n",
    "num_categories = len(categories)\n",
    "num_rows = num_categories // 2 + num_categories % 2\n",
    "\n",
    "# set the theme and create a figure\n",
    "sns.set_theme(style=\"white\", context=\"talk\")\n",
    "fig, axs = plt.subplots(num_rows, 2, figsize=(10, 6 * num_rows))\n",
    "\n",
    "# flatten the axes array\n",
    "axs = axs.flatten()\n",
    "\n",
    "# plot a line chart for each category\n",
    "for i, category in enumerate(categories):\n",
    "    ax = axs[i]\n",
    "    df_category = df_cat_year_sum[df_cat_year_sum[\"Category\"] == category]\n",
    "    lineplot = sns.lineplot(x=\"Year\", y=\"Amount\", data=df_category, marker=\"o\", ax=ax)\n",
    "\n",
    "    # annotate each data point with the total amount\n",
    "    for x, y in zip(df_category[\"Year\"], df_category[\"Amount\"]):\n",
    "        ax.text(x, y, f\"${y:.2f}\", color=\"red\", ha=\"right\")\n",
    "\n",
    "    # add a line for the average Amount\n",
    "    avg_amount = df_category[\"Amount\"].mean()\n",
    "    ax.axhline(avg_amount, color=\"blue\", linestyle=\"--\")\n",
    "\n",
    "    # annotate the average line\n",
    "    ax.annotate(\n",
    "        f\"Average: ${avg_amount:.2f}\",\n",
    "        xy=(1, avg_amount),\n",
    "        xytext=(-150, -20),\n",
    "        xycoords=(\"axes fraction\", \"data\"),\n",
    "        textcoords=\"offset points\",\n",
    "        color=\"blue\",\n",
    "    )\n",
    "\n",
    "    # format plot\n",
    "    ax.set_title(f\"Total Expenses for {category}\")\n",
    "    ax.set_xlabel(\"Year\")\n",
    "    ax.set_ylabel(\"Total Amount ($)\")\n",
    "    ax.set_ylim(bottom=0)  # set y-axis to start at 0\n",
    "\n",
    "# remove unused subplots\n",
    "for i in range(num_categories, len(axs)):\n",
    "    fig.delaxes(axs[i])\n",
    "\n",
    "plt.tight_layout()\n",
    "plt.show()"
   ]
  },
  {
   "cell_type": "markdown",
   "metadata": {},
   "source": [
    "After spiking in 2019, bar costs have remained fairly stable, although we should try to cut here if we can - it's the most expensive part of the budget.\n",
    "\n",
    "Cleaning spiked because, starting in 2022, we now pay somebody to clean mid-party.\n",
    "\n",
    "Not sure why Cups spiked in 2023. Other than avoiding rush orders, not sure what we can do here.\n",
    "\n",
    "Decoration - nothing in 2017 or 2021. The 2022 spike is due to the banner.\n",
    "\n",
    "Food spike due to the Cuban pig roast in 2022. Also, this one suffers from my arbitrary split of Costco into 1/3 Food, 2/3rds Bar.\n",
    "\n",
    "Logo increased in 2022 because we now pay for a professional graphic designer.\n",
    "\n",
    "Merch - schwag and T-shirts - only includes T-shirts for 2018, 2022, and 2023. $160, in 2017, is the highest Merch without T-shirts. Can we offload the shirts? Let's make an online store using Printful, and let people order their own damn T-shirt and have it delivered to their homes.\n",
    "\n",
    "Music increased due to inflation. And Tom Brady hiding the true cost of bands. Can't cut costs here, unless we find volunteer bands.\n",
    "\n",
    "Porta Potty. Pretty stable."
   ]
  },
  {
   "cell_type": "markdown",
   "metadata": {},
   "source": [
    "## Reimbursements\n",
    "\n",
    "- [Back to Table of Contents](#table-of-contents)"
   ]
  },
  {
   "cell_type": "code",
   "execution_count": null,
   "metadata": {},
   "outputs": [],
   "source": [
    "# plot a bar chart of every person's total pay_outs by year\n",
    "\n",
    "# group and sort sums by year\n",
    "reim_sum = reim_df.groupby([\"Year\", \"Name\"])[\"Paid\"].sum().reset_index()\n",
    "reim_sum = reim_sum.pivot(index=\"Year\", columns=\"Name\", values=\"Paid\").reset_index()\n",
    "reim_sum = reim_sum.fillna(0)\n",
    "\n",
    "# format overall figure\n",
    "sns.set_theme(style=\"white\")\n",
    "plt.figure(figsize=(10, 8))\n",
    "plt.ylabel(\"Total Amount ($)\")\n",
    "plt.xlabel(\"Year\")\n",
    "\n",
    "for i, year in enumerate(reim_sum.Year):\n",
    "    # create a new subplot for each year\n",
    "    plt.subplot(3, 2, i + 1)\n",
    "    # plot the bar chart\n",
    "    ax = reim_sum.iloc[i, 1:].plot(kind=\"bar\", color=sns.color_palette(\"muted\"))\n",
    "\n",
    "    # add labels\n",
    "    for container in ax.containers:\n",
    "        ax.bar_label(container, fmt=\"$%.0f\", color=\"red\")\n",
    "\n",
    "    # format plot\n",
    "    plt.title(year)\n",
    "    plt.xticks(rotation=60)\n",
    "\n",
    "# adjust space between subplots\n",
    "plt.subplots_adjust(hspace=1.25)\n",
    "\n",
    "# format overall figure\n",
    "plt.suptitle(\"Total Reimbursements by Person and Year\")\n",
    "plt.show()"
   ]
  },
  {
   "cell_type": "code",
   "execution_count": null,
   "metadata": {},
   "outputs": [],
   "source": [
    "# # plot a bar chart of every person's total pay_outs by year\n",
    "# # this version doesn't throw a deprecation flag (Auto-removal of overlapping axes is deprecated since 3.6 and will be removed two minor releases later)\n",
    "\n",
    "# # group and sort sums by year\n",
    "# reim_sum = reim_df.groupby([\"Year\", \"Name\"])[\"Paid\"].sum().reset_index()\n",
    "# reim_sum = reim_sum.pivot(index=\"Year\", columns=\"Name\", values=\"Paid\").reset_index()\n",
    "# reim_sum = reim_sum.fillna(0)\n",
    "\n",
    "# # format overall figure\n",
    "# sns.set_theme(style=\"white\")\n",
    "# fig, axs = plt.subplots(3, 2, figsize=(10, 8))  # Create a grid of 3x2 subplots\n",
    "# axs = axs.flatten()  # Flatten the grid to a 1D array for easy iteration\n",
    "\n",
    "# for i, year in enumerate(reim_sum.Year):\n",
    "#     # plot the bar chart on the i-th subplot\n",
    "#     ax = reim_sum.iloc[i, 1:].plot(kind=\"bar\", color=sns.color_palette(\"muted\"), ax=axs[i])\n",
    "\n",
    "#     # add labels\n",
    "#     for container in ax.containers:\n",
    "#         ax.bar_label(container)\n",
    "\n",
    "#     # format plot\n",
    "#     ax.set_title(year)\n",
    "#     ax.set_ylabel(\"Total Amount ($)\")\n",
    "#     ax.set_xlabel(\"Year\")\n",
    "#     ax.set_xticklabels(ax.get_xticklabels(), rotation=60)\n",
    "\n",
    "# # Remove unused subplots\n",
    "# for j in range(i+1, len(axs)):\n",
    "#     fig.delaxes(axs[j])\n",
    "\n",
    "# # adjust space between subplots\n",
    "# plt.subplots_adjust(hspace=1.25)\n",
    "\n",
    "# # format overall figure\n",
    "# plt.suptitle(\"Total Reimbursements by Person and Year\")\n",
    "# plt.show()"
   ]
  },
  {
   "cell_type": "code",
   "execution_count": null,
   "metadata": {},
   "outputs": [],
   "source": [
    "# plot bar chart of every person's total pay_outs\n",
    "\n",
    "# group and sort sums by year\n",
    "reim_sum = reim_df.groupby(\"Name\")[\"Paid\"].sum().reset_index()\n",
    "reim_sum = reim_sum.sort_values(\"Paid\", ascending=False)\n",
    "\n",
    "# plot the chart\n",
    "sns.set_theme(style=\"white\")\n",
    "plt.figure(figsize=(10, 6))\n",
    "ax = sns.barplot(x=\"Paid\", y=\"Name\", data=reim_sum, palette=\"muted\")\n",
    "\n",
    "# add labels\n",
    "for container in ax.containers:\n",
    "    ax.bar_label(container, fmt=\"$%.2f\", color=\"red\")\n",
    "\n",
    "# format plot\n",
    "plt.title(\"Total Reimbursements by Person (All Time)\")\n",
    "plt.xlabel(\"Total Amount ($)\")\n",
    "plt.ylabel(\"Person\")\n",
    "plt.show()"
   ]
  },
  {
   "cell_type": "code",
   "execution_count": null,
   "metadata": {},
   "outputs": [],
   "source": [
    "# plot pie chart of every person's total pay_outs\n",
    "\n",
    "# group sums by name\n",
    "reim_sum = reim_df.groupby(\"Name\")[\"Paid\"].sum().reset_index()\n",
    "\n",
    "# calculate percentage of total for each person\n",
    "reim_sum[\"Percentage\"] = 100 * reim_sum[\"Paid\"] / reim_sum[\"Paid\"].sum()\n",
    "\n",
    "# replace names of those with less than 5% with 'Other'\n",
    "reim_sum.loc[reim_sum[\"Percentage\"] < 5, \"Name\"] = \"Other\"\n",
    "\n",
    "# group by name again to combine all 'Other' rows\n",
    "reim_sum = reim_sum.groupby(\"Name\")[\"Paid\"].sum().reset_index()\n",
    "\n",
    "# sort df\n",
    "reim_sum = reim_sum.sort_values(\"Paid\", ascending=False)\n",
    "\n",
    "# new column for labels (name and amount)\n",
    "reim_sum[\"Label\"] = (\n",
    "    reim_sum[\"Name\"] + \" ($\" + reim_sum[\"Paid\"].round(2).astype(str) + \")\"\n",
    ")\n",
    "\n",
    "# plot the chart\n",
    "sns.set_theme(style=\"white\")\n",
    "plt.figure(figsize=(10, 6))\n",
    "plt.pie(\n",
    "    reim_sum.Paid,\n",
    "    labels=reim_sum.Label,\n",
    "    autopct=\"%1.1f%%\",\n",
    "    startangle=140,\n",
    "    colors=sns.color_palette(\"muted\"),\n",
    "    wedgeprops=dict(width=0.6, edgecolor=\"w\"),\n",
    ")\n",
    "plt.title(\"Total Reimbursements by Person (All Time)\")\n",
    "plt.show()"
   ]
  },
  {
   "cell_type": "markdown",
   "metadata": {},
   "source": [
    "Shout out to Randy Detman, for having the most skin in the game."
   ]
  },
  {
   "cell_type": "code",
   "execution_count": null,
   "metadata": {},
   "outputs": [],
   "source": [
    "# plot pie chart of every person's total expenses paid over time, including \"Other\" category\n",
    "\n",
    "# group and sort sums by name\n",
    "df_sum = df.groupby([\"Name\"])[\"Amount\"].sum().reset_index()\n",
    "\n",
    "# calculate percentage of total for each person\n",
    "df_sum[\"Percentage\"] = 100 * df_sum[\"Amount\"] / df_sum[\"Amount\"].sum()\n",
    "\n",
    "# replace names of those with less than 5% with 'Other'\n",
    "df_sum.loc[df_sum[\"Percentage\"] < 5, \"Name\"] = \"Other\"\n",
    "\n",
    "# group by name again to combine all 'Other' rows\n",
    "df_sum = df_sum.groupby(\"Name\")[\"Amount\"].sum().reset_index()\n",
    "\n",
    "# sort df\n",
    "df_sum = df_sum.sort_values(\"Amount\", ascending=False)\n",
    "\n",
    "# new column for the labels (name and amount)\n",
    "df_sum[\"Label\"] = df_sum[\"Name\"] + \" ($\" + df_sum[\"Amount\"].round(2).astype(str) + \")\"\n",
    "\n",
    "# format overall figure\n",
    "sns.set_theme(style=\"white\")\n",
    "plt.figure(figsize=(10, 8))\n",
    "plt.pie(\n",
    "    df_sum.Amount,\n",
    "    labels=df_sum.Label,\n",
    "    autopct=\"%1.1f%%\",\n",
    "    startangle=140,\n",
    "    colors=sns.color_palette(\"muted\"),\n",
    "    wedgeprops=dict(width=0.6, edgecolor=\"w\"),\n",
    ")\n",
    "plt.title(\"Total Expenses by Person (All Time)\")\n",
    "plt.show()"
   ]
  },
  {
   "cell_type": "code",
   "execution_count": null,
   "metadata": {},
   "outputs": [],
   "source": [
    "# plot total losses per person, ignore nulls, losses are total expenses minus pay_outs\n",
    "\n",
    "# group and sort sums by year\n",
    "reim_sum = reim_df.groupby(\"Name\")[\"Paid\"].sum().reset_index()\n",
    "reim_sum = reim_sum.sort_values(\"Paid\", ascending=False)\n",
    "\n",
    "# group and sort sums by year\n",
    "df_sum = df.groupby(\"Name\")[\"Amount\"].sum().reset_index()\n",
    "df_sum = df_sum.sort_values(\"Amount\", ascending=False)\n",
    "\n",
    "# merge dfs\n",
    "losses = pd.merge(df_sum, reim_sum, on=\"Name\", how=\"outer\")\n",
    "losses = losses.fillna(0)\n",
    "losses[\"Losses\"] = losses.Amount - losses.Paid\n",
    "losses = losses.sort_values(\"Losses\", ascending=False)\n",
    "\n",
    "# Filter out people with zero losses\n",
    "losses = losses[losses.Losses != 0]\n",
    "\n",
    "# plot the chart\n",
    "sns.set_theme(style=\"white\")\n",
    "plt.figure(figsize=(10, 6))\n",
    "ax = sns.barplot(x=\"Losses\", y=\"Name\", data=losses, palette=\"muted\")\n",
    "\n",
    "# add labels\n",
    "for container in ax.containers:\n",
    "    ax.bar_label(container, fmt=\"$%.2f\", color=\"red\")\n",
    "\n",
    "# format plot\n",
    "plt.title(\"Total Losses per Person (All Time)\")\n",
    "plt.xlabel(\"Total Amount ($)\")\n",
    "plt.ylabel(\"Person\")\n",
    "plt.show()"
   ]
  },
  {
   "cell_type": "markdown",
   "metadata": {},
   "source": [
    "Notes: Most of this is 2021. 2021 hurt. Covid knocked Harvest Party down to life support mode. \n",
    "\n",
    "Randy Detman actually has turned a profit, ~$205, keeping the profits of 2023 ($411.26), so this displays their loss from 2021. \n",
    "\n",
    "Tom Brady has certainly lost more than this, being sneaky and not charging the full cost of music back in 2017 (and probably 2018 as well). \n",
    "\n",
    "Latvia got an extra buck for being a good person (and the extra dollar had to go somewhere)"
   ]
  },
  {
   "cell_type": "markdown",
   "metadata": {},
   "source": [
    "## Attendees\n",
    "\n",
    "- [Back to Table of Contents](#table-of-contents)"
   ]
  },
  {
   "cell_type": "code",
   "execution_count": null,
   "metadata": {},
   "outputs": [],
   "source": [
    "# line chart of attendees and maybes by year\n",
    "\n",
    "# plot the chart\n",
    "sns.set_theme(style=\"white\", context=\"talk\")\n",
    "plt.figure(figsize=(10, 6))\n",
    "sns.lineplot(x=\"Year\", y=\"Going\", data=att_df, marker=\"o\")\n",
    "sns.lineplot(x=\"Year\", y=\"Maybes\", data=att_df, marker=\"o\")\n",
    "\n",
    "# annotate each data point\n",
    "for _, row in att_df.iterrows():\n",
    "    year = row.Year\n",
    "    going = row.Going\n",
    "    maybes = row.Maybes\n",
    "    plt.text(year, going, f\"{going}\", horizontalalignment=\"right\", color=\"b\")\n",
    "    plt.text(year, maybes, f\"{maybes}\", horizontalalignment=\"right\", color=\"orange\")\n",
    "\n",
    "# format plot\n",
    "plt.title(\"Total Attendees and Maybes by Year\")\n",
    "plt.xlabel(\"Year\")\n",
    "plt.ylabel(\"Total People\")\n",
    "plt.legend([\"Going\", \"Maybes\"])\n",
    "plt.show()"
   ]
  },
  {
   "cell_type": "markdown",
   "metadata": {},
   "source": [
    "The decline and stabilization of attendees probably reflects the decline of Facebook. Question: Is there any other reason for the decline?"
   ]
  },
  {
   "cell_type": "code",
   "execution_count": null,
   "metadata": {},
   "outputs": [],
   "source": [
    "# line plot of percent of maybes versus going per year\n",
    "\n",
    "# calculate percentage of maybes for each year\n",
    "att_df[\"Percentage_maybes\"] = att_df[\"Maybes\"] / (att_df[\"Going\"]) * 100\n",
    "\n",
    "# plot the chart\n",
    "sns.set_theme(style=\"white\", context=\"talk\")\n",
    "plt.figure(figsize=(10, 6))\n",
    "sns.lineplot(x=\"Year\", y=\"Percentage_maybes\", data=att_df, marker=\"o\")\n",
    "\n",
    "# annotate each data point\n",
    "for _, row in att_df.iterrows():\n",
    "    year = row.Year\n",
    "    percentage = row.Percentage_maybes\n",
    "    plt.text(\n",
    "        year, percentage, f\"{percentage:.2f}%\", horizontalalignment=\"right\", color=\"r\"\n",
    "    )\n",
    "\n",
    "# format plot\n",
    "plt.title(\"Percentage of Maybes (vs Going) by Year\")\n",
    "plt.xlabel(\"Year\")\n",
    "plt.ylabel(\"Percentage\")\n",
    "plt.show()"
   ]
  },
  {
   "cell_type": "code",
   "execution_count": null,
   "metadata": {},
   "outputs": [],
   "source": [
    "# barplot of Facebook Going vs total expenses by year\n",
    "\n",
    "# group and sort sums by year, 2017+\n",
    "df_sum = df[df.Year >= 2017].groupby(\"Year\")[\"Amount\"].sum().reset_index()\n",
    "att_sum = att_df[att_df.Year >= 2017].copy()\n",
    "\n",
    "# merge dfs\n",
    "df_att = pd.merge(df_sum, att_sum, on=\"Year\", how=\"outer\")\n",
    "\n",
    "# sort by 'Going'\n",
    "df_att.sort_values(\"Going\", inplace=True)\n",
    "\n",
    "# plot the chart\n",
    "sns.set_theme(style=\"white\")\n",
    "plt.figure(figsize=(10, 6))\n",
    "ax = sns.barplot(x=\"Going\", y=\"Amount\", data=df_att, palette=\"muted\")\n",
    "\n",
    "# add labels\n",
    "for i, bar in enumerate(ax.patches):\n",
    "    # print the sum at the top of each bar\n",
    "    ax.text(\n",
    "        bar.get_x() + bar.get_width() / 2.0,\n",
    "        bar.get_height(),\n",
    "        \" ${:.2f}\".format(bar.get_height()),\n",
    "        ha=\"center\",\n",
    "        va=\"bottom\",\n",
    "        color=\"red\",\n",
    "        size=\"small\",\n",
    "    )\n",
    "    # print the year at the bottom of each bar\n",
    "    ax.text(\n",
    "        bar.get_x() + bar.get_width() / 2.0,\n",
    "        0,\n",
    "        \"Year: {}\\n(Maybes: {})\".format(\n",
    "            df_att[\"Year\"].values[i], df_att[\"Maybes\"].values[i]\n",
    "        ),\n",
    "        ha=\"center\",\n",
    "        va=\"top\",\n",
    "        color=\"blue\",\n",
    "        size=\"small\",\n",
    "    )\n",
    "\n",
    "# move xticks down\n",
    "for tick in ax.get_xticklabels():\n",
    "    tick.set_y(-0.05)\n",
    "\n",
    "# format plot\n",
    "plt.title(\"Total Expenses and Attendees by Year\")\n",
    "plt.xlabel(\"Facebook Going\")\n",
    "plt.ylabel(\"Total Amount ($)\")\n",
    "plt.show()"
   ]
  },
  {
   "cell_type": "markdown",
   "metadata": {},
   "source": [
    "I would argue this is further evidence of the decoupling of Facebook invites from actual attendees, combined with inflation."
   ]
  },
  {
   "cell_type": "code",
   "execution_count": null,
   "metadata": {},
   "outputs": [],
   "source": [
    "# plot of expenses per attendee by year\n",
    "\n",
    "# group and sort sums by year, 2017+\n",
    "df_sum = df[df.Year >= 2017].groupby(\"Year\")[\"Amount\"].sum().reset_index()\n",
    "att_sum = att_df[att_df.Year >= 2017].copy()\n",
    "\n",
    "# merge dfs\n",
    "df_sum = pd.merge(df_sum, att_sum, on=\"Year\", how=\"outer\")\n",
    "\n",
    "# calculate expenses per attendee\n",
    "df_sum[\"Expenses_per_attendee\"] = df_sum[\"Amount\"] / df_sum[\"Going\"]\n",
    "\n",
    "# plot and format line chart\n",
    "sns.set_theme(style=\"white\", context=\"talk\")\n",
    "plt.figure(figsize=(10, 6))\n",
    "sns.lineplot(\n",
    "    x=\"Year\",\n",
    "    y=\"Expenses_per_attendee\",\n",
    "    data=df_sum,\n",
    "    marker=\"o\",\n",
    "    color=\"black\",\n",
    "    label=\"Expenses per Attendee\",\n",
    ")\n",
    "\n",
    "# annotate each data point\n",
    "for _, row in df_sum.iterrows():\n",
    "    year = row.Year\n",
    "    amount = row.Expenses_per_attendee\n",
    "    plt.text(year, amount, f\"${amount:.2f}\", horizontalalignment=\"right\", color=\"red\")\n",
    "\n",
    "# format plot\n",
    "plt.title(\"Expenses per Facebook Attendee by Year\")\n",
    "plt.xlabel(\"Year\")\n",
    "plt.ylabel(\"Expenses per Attendee ($)\")\n",
    "plt.show()"
   ]
  },
  {
   "cell_type": "code",
   "execution_count": null,
   "metadata": {},
   "outputs": [],
   "source": [
    "# plot of expenses per attendee by year\n",
    "\n",
    "# group and sort sums by year\n",
    "df_sum = df[df.Year >= 2017].groupby(\"Year\")[\"Amount\"].sum().reset_index()\n",
    "att_sum = att_df[att_df.Year >= 2017].copy()\n",
    "\n",
    "# merge dfs\n",
    "df_sum = pd.merge(df_sum, att_sum, on=\"Year\", how=\"outer\")\n",
    "\n",
    "# calculate expenses per attendee\n",
    "df_sum[\"Expenses_per_attendee\"] = df_sum[\"Amount\"] / (\n",
    "    df_sum[\"Going\"] + df_sum[\"Maybes\"] / 2\n",
    ")\n",
    "\n",
    "# plot and format line chart\n",
    "sns.set_theme(style=\"white\", context=\"talk\")\n",
    "plt.figure(figsize=(10, 6))\n",
    "sns.lineplot(\n",
    "    x=\"Year\",\n",
    "    y=\"Expenses_per_attendee\",\n",
    "    data=df_sum,\n",
    "    marker=\"o\",\n",
    "    color=\"black\",\n",
    "    label=\"Expenses per Attendee\",\n",
    ")\n",
    "\n",
    "# annotate each data point\n",
    "for _, row in df_sum.iterrows():\n",
    "    year = row.Year\n",
    "    amount = row.Expenses_per_attendee\n",
    "    plt.text(year, amount, f\"${amount:.2f}\", horizontalalignment=\"right\", color=\"red\")\n",
    "\n",
    "# format plot\n",
    "plt.title(\"Expenses per Facebook Attendee (and half of Maybes) by Year\")\n",
    "plt.xlabel(\"Year\")\n",
    "plt.ylabel(\"Expenses per Attendee ($)\")\n",
    "plt.show()"
   ]
  },
  {
   "cell_type": "markdown",
   "metadata": {},
   "source": [
    "I suspect this is a reflection of inflation, the declining relevancy of Facebook invites as a useful metric in the 2020's, and escalating costs. Inflation's a bitch, nobody uses Facebook, and we purchase more goods / services (e.g., Cleaning, Logo). I tried two different versions (one just based on FB Going, the other based on FB attendees and half of FB Maybes)."
   ]
  },
  {
   "cell_type": "markdown",
   "metadata": {},
   "source": [
    "## Sub-categories\n",
    "Individual Expenses for each year\n",
    "\n",
    "- [Back to Table of Contents](#table-of-contents)"
   ]
  },
  {
   "cell_type": "code",
   "execution_count": null,
   "metadata": {},
   "outputs": [],
   "source": [
    "# scatter plot of expenses per year, color-coded by category\n",
    "\n",
    "# plot the chart\n",
    "sns.set_theme(style=\"white\")\n",
    "plt.figure(figsize=(10, 6))\n",
    "ax = sns.scatterplot(x=\"Year\", y=\"Amount\", hue=\"Category\", data=df, palette=\"muted\")\n",
    "\n",
    "# format plot\n",
    "plt.title(\"Total Expenses by Year\")\n",
    "plt.xlabel(\"Year\")\n",
    "plt.ylabel(\"Total Amount ($)\")\n",
    "plt.legend(title=\"Category\")\n",
    "plt.show()"
   ]
  },
  {
   "cell_type": "code",
   "execution_count": null,
   "metadata": {},
   "outputs": [],
   "source": [
    "# scatter plot of expenses per year, color-coded by category\n",
    "\n",
    "# create the scatter plot\n",
    "fig = px.scatter(\n",
    "    df,\n",
    "    x=\"Year\",\n",
    "    y=\"Amount\",\n",
    "    color=\"Category\",\n",
    "    hover_data=[\"Expense\", \"Amount\", \"Year\", \"Name\"],\n",
    ")\n",
    "\n",
    "# format plot\n",
    "fig.update_layout(\n",
    "    title=\"Individual Expenses by Year\",\n",
    "    xaxis_title=\"Year\",\n",
    "    yaxis_title=\"Total Amount ($)\",\n",
    "    legend_title=\"Category\",\n",
    ")\n",
    "\n",
    "# show the plot\n",
    "fig.show()"
   ]
  },
  {
   "cell_type": "code",
   "execution_count": null,
   "metadata": {},
   "outputs": [],
   "source": [
    "# bar plot of each year's expenses\n",
    "\n",
    "# get unique years and categories\n",
    "years = df[\"Year\"].unique()\n",
    "categories = df[\"Category\"].unique()\n",
    "\n",
    "# create a color dictionary\n",
    "color_discrete_map = {\n",
    "    category: px.colors.qualitative.Plotly[i % len(px.colors.qualitative.Plotly)]\n",
    "    for i, category in enumerate(categories)\n",
    "}\n",
    "\n",
    "# create a subplot for each year\n",
    "for year in years:\n",
    "    df_year = df[df[\"Year\"] == year]\n",
    "\n",
    "    # sort by Amount\n",
    "    df_year = df_year.sort_values(\"Amount\")\n",
    "\n",
    "    # create the bar chart\n",
    "    fig = px.bar(\n",
    "        df_year,\n",
    "        x=\"Expense\",\n",
    "        y=\"Amount\",\n",
    "        color=\"Category\",\n",
    "        hover_data={\"Expense\": True, \"Amount\": False, \"Name\": True},\n",
    "        labels={\"Expense\": \"Expense\", \"Amount\": \"Amount ($)\", \"Name\": \"Name\"},\n",
    "        title=f\"Expenses for {year}\",\n",
    "        text=df_year[\"Amount\"].apply(lambda x: f\"${x:.2f}\"),\n",
    "        color_discrete_map=color_discrete_map,\n",
    "    )\n",
    "\n",
    "    # hide x-axis labels\n",
    "    fig.update_xaxes(visible=False, showticklabels=False)\n",
    "\n",
    "    # update text on bars and customize hover text\n",
    "    fig.update_traces(textposition=\"outside\", hovertemplate=\"<b>%{x}</b><br>%{text}\")\n",
    "\n",
    "    fig.show()"
   ]
  },
  {
   "cell_type": "code",
   "execution_count": null,
   "metadata": {},
   "outputs": [],
   "source": [
    "# plot a sunburst chart, with categories on the inside and expense on the outside\n",
    "# add a hover over expense, to include the Expense and Amount\n",
    "\n",
    "# unique id for each expense\n",
    "df_copy = df.copy()\n",
    "df_copy.reset_index(inplace=True)\n",
    "\n",
    "# group and sort sums by Category and Name\n",
    "df_cat_name_sum = df_copy.groupby([\"Category\", \"Expense\", \"index\"]).sum().reset_index()\n",
    "df_cat_name_sum = df_cat_name_sum.sort_values(\"Amount\", ascending=False)\n",
    "\n",
    "# plot the chart\n",
    "fig = px.sunburst(\n",
    "    df_cat_name_sum,\n",
    "    path=[\"Category\", \"Year\", \"Expense\"],\n",
    "    values=\"Amount\",\n",
    "    title=\"Total Expenses by Category and Person\",\n",
    "    hover_data=[\"Name\", \"Year\"],\n",
    ")\n",
    "\n",
    "# update layout for better display\n",
    "fig.update_layout(\n",
    "    height=600,\n",
    "    width=800,\n",
    "    uniformtext=dict(minsize=12, mode=\"hide\"),\n",
    ")\n",
    "\n",
    "# hover data\n",
    "fig.update_traces(\n",
    "    hovertemplate=\"<b>%{label}</b>: $%{value:.2f}<br><b>Name:</b> %{customdata[0]}<br><b>Year:</b> %{customdata[1]}\"\n",
    ")\n",
    "\n",
    "\n",
    "fig.show()"
   ]
  },
  {
   "cell_type": "markdown",
   "metadata": {},
   "source": [
    "## Boring Stats\n",
    "\n",
    "- [Back to Table of Contents](#table-of-contents)"
   ]
  },
  {
   "cell_type": "code",
   "execution_count": null,
   "metadata": {},
   "outputs": [],
   "source": [
    "# print the max and min Expense by Category\n",
    "\n",
    "# get max and min Amount per Category (so I can print extra details immediately below)\n",
    "max_amount_rows = df.loc[df.groupby(\"Category\")[\"Amount\"].idxmax()]\n",
    "# there's a zero value for Decoration in 2019 (pumpkins / hay)\n",
    "min_amount_rows = df[df[\"Amount\"] != 0].loc[\n",
    "    df[df[\"Amount\"] != 0].groupby(\"Category\")[\"Amount\"].idxmin()\n",
    "]\n",
    "\n",
    "# sort values\n",
    "max_amount_rows = max_amount_rows.sort_values(\"Amount\", ascending=False)\n",
    "min_amount_rows = min_amount_rows.sort_values(\"Amount\")\n",
    "\n",
    "# format Amount as currency\n",
    "max_amount_rows[\"Amount\"] = max_amount_rows[\"Amount\"].apply(lambda x: f\"${x:.2f}\")\n",
    "min_amount_rows[\"Amount\"] = min_amount_rows[\"Amount\"].apply(lambda x: f\"${x:.2f}\")\n",
    "\n",
    "print(\n",
    "    f\"Max Expense by Category: \\n{max_amount_rows[['Category', 'Amount', 'Year', 'Expense']]}\\n\"\n",
    ")\n",
    "print(\n",
    "    f\"Min Expense by Category: \\n{min_amount_rows[['Category', 'Amount', 'Year', 'Expense']]}\"\n",
    ")"
   ]
  },
  {
   "cell_type": "markdown",
   "metadata": {},
   "source": [
    "Most Max expenses are from 2022 and 2023. Not surprising."
   ]
  },
  {
   "cell_type": "code",
   "execution_count": null,
   "metadata": {},
   "outputs": [],
   "source": [
    "# calculate average Amount by Category, sort values\n",
    "avg_amount = df.groupby(\"Category\")[\"Amount\"].mean()\n",
    "avg_amount = avg_amount.sort_values(ascending=False)\n",
    "\n",
    "# format as currency\n",
    "avg_amount = avg_amount.apply(lambda x: f\"${x:.2f}\")\n",
    "\n",
    "print(f\"Mean (Average) Expense per Category: \\n{avg_amount}\")"
   ]
  },
  {
   "cell_type": "code",
   "execution_count": null,
   "metadata": {},
   "outputs": [],
   "source": [
    "# calculate sum of Amount by Category, sort values\n",
    "sum_amount = df.groupby(\"Category\")[\"Amount\"].sum()\n",
    "sum_amount = sum_amount.sort_values(ascending=False)\n",
    "\n",
    "# format as currency\n",
    "sum_amount = sum_amount.apply(lambda x: f\"${x:.2f}\")\n",
    "\n",
    "print(f\"Total Expenses per Category: \\n{sum_amount}\\n\")\n",
    "print(\n",
    "    f\"Total entries per Category: \\n{df.groupby('Category')['Amount'].count().sort_values()}\"\n",
    ")"
   ]
  },
  {
   "cell_type": "code",
   "execution_count": null,
   "metadata": {},
   "outputs": [],
   "source": [
    "print(\n",
    "    f\"Total Expenses per Year: \\n{df.groupby('Year')['Amount'].sum().sort_values(ascending=False).apply(lambda x: f'${x:.2f}')}\\n\"\n",
    ")\n",
    "print(f\"Total entries per Year: \\n{df.groupby('Year')['Amount'].count().sort_values()}\")"
   ]
  },
  {
   "cell_type": "code",
   "execution_count": null,
   "metadata": {},
   "outputs": [],
   "source": [
    "print(\n",
    "    f\"Total Expenses by Name: \\n{df.groupby('Name')['Amount'].sum().sort_values(ascending=False).apply(lambda x: f'${x:.2f}')}\\n\"\n",
    ")\n",
    "print(f\"Total entries per Name: \\n{df.groupby('Name')['Amount'].count().sort_values()}\")"
   ]
  },
  {
   "cell_type": "code",
   "execution_count": null,
   "metadata": {},
   "outputs": [],
   "source": [
    "# disable truncation of output\n",
    "pd.set_option(\"display.max_rows\", None)\n",
    "pd.set_option(\"display.max_columns\", None)"
   ]
  },
  {
   "cell_type": "code",
   "execution_count": null,
   "metadata": {},
   "outputs": [],
   "source": [
    "print(\"Click 'View as scrollable element'\\n\")\n",
    "print(\n",
    "    f\"Amount by Category per Year: \\n{df.groupby(['Category', 'Year'])['Amount'].sum().sort_values(ascending=False).apply(lambda x: f'${x:.2f}')}\"\n",
    ")"
   ]
  },
  {
   "cell_type": "code",
   "execution_count": null,
   "metadata": {},
   "outputs": [],
   "source": [
    "print(\"Click 'View as scrollable element'\\n\")\n",
    "print(\n",
    "    f\"Amount spent per Category by Name: \\n{df.groupby(['Category', 'Name'])['Amount'].sum().sort_values(ascending=False).apply(lambda x: f'${x:.2f}')}\"\n",
    ")"
   ]
  },
  {
   "cell_type": "code",
   "execution_count": null,
   "metadata": {},
   "outputs": [],
   "source": [
    "print(\"Click 'View as scrollable element'\\n\")\n",
    "print(\n",
    "    f\"Amount spent by Name per Year: \\n{df.groupby(['Name', 'Year'])['Amount'].sum().sort_values(ascending=False).apply(lambda x: f'${x:.2f}')}\"\n",
    ")"
   ]
  },
  {
   "cell_type": "code",
   "execution_count": null,
   "metadata": {},
   "outputs": [],
   "source": [
    "print(\"Click 'View as scrollable element'\\n\")\n",
    "print(\n",
    "    f\"Expenses sorted from highest to least: \\n{df.groupby(['Name', 'Year', 'Expense'])['Amount'].sum().sort_values(ascending=False).apply(lambda x: f'${x:.2f}')}\"\n",
    ")"
   ]
  },
  {
   "cell_type": "code",
   "execution_count": null,
   "metadata": {},
   "outputs": [],
   "source": [
    "print(\"Click 'View as scrollable element'\\n\")\n",
    "print(\n",
    "    f\"Same as above, Expenses highest to lowest, but by Category: \\n{df.groupby(['Category', 'Year', 'Expense'])['Amount'].sum().sort_values(ascending=False).apply(lambda x: f'${x:.2f}')}\"\n",
    ")"
   ]
  },
  {
   "cell_type": "code",
   "execution_count": null,
   "metadata": {},
   "outputs": [],
   "source": [
    "print(\"Click 'View as scrollable element'\\n\")\n",
    "print(\n",
    "    f\"Total Expense by Category per Name and Year: \\n{df.groupby(['Category', 'Name', 'Year'])['Amount'].sum().sort_values(ascending=False).apply(lambda x: f'${x:.2f}')}\"\n",
    ")"
   ]
  },
  {
   "cell_type": "code",
   "execution_count": null,
   "metadata": {},
   "outputs": [],
   "source": [
    "# reset truncation to default\n",
    "pd.reset_option(\"display.max_rows\")\n",
    "pd.reset_option(\"display.max_columns\")"
   ]
  },
  {
   "cell_type": "markdown",
   "metadata": {},
   "source": [
    "## Conclusion\n",
    "\n",
    "We don't have enough data to make accurate decisions. 2021 (post-covid) and 2017 (no music charge) are outliers, so four to six years worth of data.\n",
    "\n",
    "Tom Brady is a dirty liar, in the best possible way, spending money out-of-pocket and not accounting for it. Corn Royalty 4 Eva. There shall be a Brady dynasty for generations to come.\n",
    "\n",
    "We are spending too much money, and the cost per person has more than doubled post-covid ($16/$13 in 2019, to $42/$48 in 2023). 2022 and 2023 account for more than half of Expenses across the six years with available data.\n",
    "\n",
    "Inflation does account for a big chunk of that cost increase.\n",
    "\n",
    "Music seems to be ~20%/year and Bar is ~35%/year, despite 2019 (we bought many last-minute supplies that year - lotta attendees).\n",
    "\n",
    "Cleaning and Logo have spiked in the last few years, because we pay for a graphic designer and a mid-party cleaner. Both are worth it.\n",
    "\n",
    "Getting a head start on stuff will save cash (no rush fees). \n",
    "\n",
    "Setup a T-shirt e-market with Printful to offload that task?\n",
    "\n",
    "Music and Bar are the biggest contributors to cost. Can we find volunteer musicians or cheaper booze? I suspect only marginally.\n",
    "\n",
    "Facebook is an increasingly irrelevant metric for attendees."
   ]
  },
  {
   "cell_type": "markdown",
   "metadata": {},
   "source": []
  }
 ],
 "metadata": {
  "kernelspec": {
   "display_name": "Python 3 (ipykernel)",
   "language": "python",
   "name": "python3"
  },
  "language_info": {
   "codemirror_mode": {
    "name": "ipython",
    "version": 3
   },
   "file_extension": ".py",
   "mimetype": "text/x-python",
   "name": "python",
   "nbconvert_exporter": "python",
   "pygments_lexer": "ipython3",
   "version": "3.10.13"
  }
 },
 "nbformat": 4,
 "nbformat_minor": 4
}
